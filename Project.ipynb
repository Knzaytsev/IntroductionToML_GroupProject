{
 "cells": [
  {
   "cell_type": "code",
   "execution_count": 1,
   "metadata": {},
   "outputs": [],
   "source": [
    "import pandas as pd\n",
    "import numpy as np\n",
    "from os import listdir\n",
    "from os.path import isfile, join\n",
    "import matplotlib.pyplot as plt\n",
    "from sklearn.metrics import make_scorer\n",
    "from sklearn.model_selection import cross_val_score"
   ]
  },
  {
   "cell_type": "markdown",
   "metadata": {},
   "source": [
    "### Структура базы данных"
   ]
  },
  {
   "cell_type": "markdown",
   "metadata": {},
   "source": [
    "<img src=\"img/structure.png\">"
   ]
  },
  {
   "cell_type": "code",
   "execution_count": 3,
   "metadata": {},
   "outputs": [],
   "source": [
    "categories = pd.read_csv('data/categories.csv')\n",
    "cities = pd.read_csv('data/cities.csv')\n",
    "events = pd.read_csv('data/events.csv', parse_dates=['created', 'event_time', 'updated'])\n",
    "groups = pd.read_csv('data/groups.csv', parse_dates=['created'])\n",
    "groups_topics = pd.read_csv('data/groups_topics.csv', encoding='ISO-8859-1')\n",
    "members = pd.read_csv('data/members.csv', encoding='ISO-8859-1')\n",
    "members_topics = pd.read_csv('data/members_topics.csv')\n",
    "topics = pd.read_csv('data/topics.csv', encoding='ISO-8859-1')\n",
    "venues = pd.read_csv('data/venues.csv')"
   ]
  },
  {
   "cell_type": "code",
   "execution_count": null,
   "metadata": {},
   "outputs": [],
   "source": [
    "categories"
   ]
  },
  {
   "cell_type": "code",
   "execution_count": 199,
   "metadata": {},
   "outputs": [
    {
     "data": {
      "text/html": [
       "<div>\n",
       "<style scoped>\n",
       "    .dataframe tbody tr th:only-of-type {\n",
       "        vertical-align: middle;\n",
       "    }\n",
       "\n",
       "    .dataframe tbody tr th {\n",
       "        vertical-align: top;\n",
       "    }\n",
       "\n",
       "    .dataframe thead th {\n",
       "        text-align: right;\n",
       "    }\n",
       "</style>\n",
       "<table border=\"1\" class=\"dataframe\">\n",
       "  <thead>\n",
       "    <tr style=\"text-align: right;\">\n",
       "      <th></th>\n",
       "      <th>city</th>\n",
       "      <th>city_id</th>\n",
       "      <th>country</th>\n",
       "      <th>distance</th>\n",
       "      <th>latitude</th>\n",
       "      <th>localized_country_name</th>\n",
       "      <th>longitude</th>\n",
       "      <th>member_count</th>\n",
       "      <th>ranking</th>\n",
       "      <th>state</th>\n",
       "      <th>zip</th>\n",
       "    </tr>\n",
       "  </thead>\n",
       "  <tbody>\n",
       "    <tr>\n",
       "      <th>0</th>\n",
       "      <td>West New York</td>\n",
       "      <td>7093</td>\n",
       "      <td>us</td>\n",
       "      <td>2524.541</td>\n",
       "      <td>40.790001</td>\n",
       "      <td>USA</td>\n",
       "      <td>-74.010002</td>\n",
       "      <td>661</td>\n",
       "      <td>32</td>\n",
       "      <td>NJ</td>\n",
       "      <td>7093</td>\n",
       "    </tr>\n",
       "    <tr>\n",
       "      <th>1</th>\n",
       "      <td>New York</td>\n",
       "      <td>10001</td>\n",
       "      <td>us</td>\n",
       "      <td>2526.837</td>\n",
       "      <td>40.750000</td>\n",
       "      <td>USA</td>\n",
       "      <td>-73.989998</td>\n",
       "      <td>229371</td>\n",
       "      <td>0</td>\n",
       "      <td>NY</td>\n",
       "      <td>10001</td>\n",
       "    </tr>\n",
       "    <tr>\n",
       "      <th>2</th>\n",
       "      <td>New York Mills</td>\n",
       "      <td>13417</td>\n",
       "      <td>us</td>\n",
       "      <td>2392.162</td>\n",
       "      <td>43.099998</td>\n",
       "      <td>USA</td>\n",
       "      <td>-75.290001</td>\n",
       "      <td>22</td>\n",
       "      <td>109</td>\n",
       "      <td>NY</td>\n",
       "      <td>13417</td>\n",
       "    </tr>\n",
       "  </tbody>\n",
       "</table>\n",
       "</div>"
      ],
      "text/plain": [
       "             city  city_id country  distance   latitude  \\\n",
       "0   West New York     7093      us  2524.541  40.790001   \n",
       "1        New York    10001      us  2526.837  40.750000   \n",
       "2  New York Mills    13417      us  2392.162  43.099998   \n",
       "\n",
       "  localized_country_name  longitude  member_count  ranking state    zip  \n",
       "0                    USA -74.010002           661       32    NJ   7093  \n",
       "1                    USA -73.989998        229371        0    NY  10001  \n",
       "2                    USA -75.290001            22      109    NY  13417  "
      ]
     },
     "execution_count": 199,
     "metadata": {},
     "output_type": "execute_result"
    }
   ],
   "source": [
    "cities.head(3)"
   ]
  },
  {
   "cell_type": "code",
   "execution_count": 200,
   "metadata": {},
   "outputs": [
    {
     "name": "stdout",
     "output_type": "stream",
     "text": [
      "<class 'pandas.core.frame.DataFrame'>\n",
      "RangeIndex: 13 entries, 0 to 12\n",
      "Data columns (total 11 columns):\n",
      " #   Column                  Non-Null Count  Dtype  \n",
      "---  ------                  --------------  -----  \n",
      " 0   city                    13 non-null     object \n",
      " 1   city_id                 13 non-null     int64  \n",
      " 2   country                 13 non-null     object \n",
      " 3   distance                13 non-null     float64\n",
      " 4   latitude                13 non-null     float64\n",
      " 5   localized_country_name  13 non-null     object \n",
      " 6   longitude               13 non-null     float64\n",
      " 7   member_count            13 non-null     int64  \n",
      " 8   ranking                 13 non-null     int64  \n",
      " 9   state                   13 non-null     object \n",
      " 10  zip                     13 non-null     int64  \n",
      "dtypes: float64(3), int64(4), object(4)\n",
      "memory usage: 1.2+ KB\n"
     ]
    },
    {
     "data": {
      "text/html": [
       "<div>\n",
       "<style scoped>\n",
       "    .dataframe tbody tr th:only-of-type {\n",
       "        vertical-align: middle;\n",
       "    }\n",
       "\n",
       "    .dataframe tbody tr th {\n",
       "        vertical-align: top;\n",
       "    }\n",
       "\n",
       "    .dataframe thead th {\n",
       "        text-align: right;\n",
       "    }\n",
       "</style>\n",
       "<table border=\"1\" class=\"dataframe\">\n",
       "  <thead>\n",
       "    <tr style=\"text-align: right;\">\n",
       "      <th></th>\n",
       "      <th>city_id</th>\n",
       "      <th>distance</th>\n",
       "      <th>latitude</th>\n",
       "      <th>longitude</th>\n",
       "      <th>member_count</th>\n",
       "      <th>ranking</th>\n",
       "      <th>zip</th>\n",
       "    </tr>\n",
       "  </thead>\n",
       "  <tbody>\n",
       "    <tr>\n",
       "      <th>count</th>\n",
       "      <td>13.000000</td>\n",
       "      <td>13.000000</td>\n",
       "      <td>13.000000</td>\n",
       "      <td>13.000000</td>\n",
       "      <td>13.000000</td>\n",
       "      <td>13.000000</td>\n",
       "      <td>13.000000</td>\n",
       "    </tr>\n",
       "    <tr>\n",
       "      <th>mean</th>\n",
       "      <td>55304.538462</td>\n",
       "      <td>1523.793615</td>\n",
       "      <td>41.297692</td>\n",
       "      <td>-93.152307</td>\n",
       "      <td>29411.615385</td>\n",
       "      <td>53.769231</td>\n",
       "      <td>55280.615385</td>\n",
       "    </tr>\n",
       "    <tr>\n",
       "      <th>std</th>\n",
       "      <td>30251.680280</td>\n",
       "      <td>894.836592</td>\n",
       "      <td>2.331169</td>\n",
       "      <td>17.606069</td>\n",
       "      <td>66629.944576</td>\n",
       "      <td>59.558310</td>\n",
       "      <td>30247.265440</td>\n",
       "    </tr>\n",
       "    <tr>\n",
       "      <th>min</th>\n",
       "      <td>7093.000000</td>\n",
       "      <td>25.883000</td>\n",
       "      <td>37.650002</td>\n",
       "      <td>-122.430000</td>\n",
       "      <td>4.000000</td>\n",
       "      <td>0.000000</td>\n",
       "      <td>7093.000000</td>\n",
       "    </tr>\n",
       "    <tr>\n",
       "      <th>25%</th>\n",
       "      <td>46312.000000</td>\n",
       "      <td>1418.834000</td>\n",
       "      <td>40.750000</td>\n",
       "      <td>-95.349998</td>\n",
       "      <td>31.000000</td>\n",
       "      <td>1.000000</td>\n",
       "      <td>46312.000000</td>\n",
       "    </tr>\n",
       "    <tr>\n",
       "      <th>50%</th>\n",
       "      <td>60185.000000</td>\n",
       "      <td>1793.115000</td>\n",
       "      <td>41.639999</td>\n",
       "      <td>-87.779999</td>\n",
       "      <td>141.000000</td>\n",
       "      <td>32.000000</td>\n",
       "      <td>60185.000000</td>\n",
       "    </tr>\n",
       "    <tr>\n",
       "      <th>75%</th>\n",
       "      <td>60601.000000</td>\n",
       "      <td>1810.371000</td>\n",
       "      <td>41.889999</td>\n",
       "      <td>-87.459999</td>\n",
       "      <td>661.000000</td>\n",
       "      <td>95.000000</td>\n",
       "      <td>60415.000000</td>\n",
       "    </tr>\n",
       "    <tr>\n",
       "      <th>max</th>\n",
       "      <td>95712.000000</td>\n",
       "      <td>2526.837000</td>\n",
       "      <td>46.689999</td>\n",
       "      <td>-73.989998</td>\n",
       "      <td>229371.000000</td>\n",
       "      <td>178.000000</td>\n",
       "      <td>95712.000000</td>\n",
       "    </tr>\n",
       "  </tbody>\n",
       "</table>\n",
       "</div>"
      ],
      "text/plain": [
       "            city_id     distance   latitude   longitude   member_count  \\\n",
       "count     13.000000    13.000000  13.000000   13.000000      13.000000   \n",
       "mean   55304.538462  1523.793615  41.297692  -93.152307   29411.615385   \n",
       "std    30251.680280   894.836592   2.331169   17.606069   66629.944576   \n",
       "min     7093.000000    25.883000  37.650002 -122.430000       4.000000   \n",
       "25%    46312.000000  1418.834000  40.750000  -95.349998      31.000000   \n",
       "50%    60185.000000  1793.115000  41.639999  -87.779999     141.000000   \n",
       "75%    60601.000000  1810.371000  41.889999  -87.459999     661.000000   \n",
       "max    95712.000000  2526.837000  46.689999  -73.989998  229371.000000   \n",
       "\n",
       "          ranking           zip  \n",
       "count   13.000000     13.000000  \n",
       "mean    53.769231  55280.615385  \n",
       "std     59.558310  30247.265440  \n",
       "min      0.000000   7093.000000  \n",
       "25%      1.000000  46312.000000  \n",
       "50%     32.000000  60185.000000  \n",
       "75%     95.000000  60415.000000  \n",
       "max    178.000000  95712.000000  "
      ]
     },
     "execution_count": 200,
     "metadata": {},
     "output_type": "execute_result"
    }
   ],
   "source": [
    "cities.info()\n",
    "cities.describe()"
   ]
  },
  {
   "cell_type": "code",
   "execution_count": 201,
   "metadata": {},
   "outputs": [
    {
     "data": {
      "text/html": [
       "<div>\n",
       "<style scoped>\n",
       "    .dataframe tbody tr th:only-of-type {\n",
       "        vertical-align: middle;\n",
       "    }\n",
       "\n",
       "    .dataframe tbody tr th {\n",
       "        vertical-align: top;\n",
       "    }\n",
       "\n",
       "    .dataframe thead th {\n",
       "        text-align: right;\n",
       "    }\n",
       "</style>\n",
       "<table border=\"1\" class=\"dataframe\">\n",
       "  <thead>\n",
       "    <tr style=\"text-align: right;\">\n",
       "      <th></th>\n",
       "      <th>event_id</th>\n",
       "      <th>created</th>\n",
       "      <th>description</th>\n",
       "      <th>duration</th>\n",
       "      <th>event_url</th>\n",
       "      <th>fee.accepts</th>\n",
       "      <th>fee.amount</th>\n",
       "      <th>fee.currency</th>\n",
       "      <th>fee.description</th>\n",
       "      <th>fee.label</th>\n",
       "      <th>...</th>\n",
       "      <th>venue.lon</th>\n",
       "      <th>venue.name</th>\n",
       "      <th>venue.phone</th>\n",
       "      <th>venue.repinned</th>\n",
       "      <th>venue.state</th>\n",
       "      <th>venue.zip</th>\n",
       "      <th>visibility</th>\n",
       "      <th>waitlist_count</th>\n",
       "      <th>why</th>\n",
       "      <th>yes_rsvp_count</th>\n",
       "    </tr>\n",
       "  </thead>\n",
       "  <tbody>\n",
       "    <tr>\n",
       "      <th>0</th>\n",
       "      <td>153868222</td>\n",
       "      <td>2013-12-03 21:24:29</td>\n",
       "      <td>Solve the murder case while eating a 3 course ...</td>\n",
       "      <td>20700</td>\n",
       "      <td>https://www.meetup.com/SanFranciscoStartupFun/...</td>\n",
       "      <td>others</td>\n",
       "      <td>0.0</td>\n",
       "      <td>not_found</td>\n",
       "      <td>per person</td>\n",
       "      <td>Price</td>\n",
       "      <td>...</td>\n",
       "      <td>-122.405690</td>\n",
       "      <td>Little Szechuan</td>\n",
       "      <td>-1</td>\n",
       "      <td>1</td>\n",
       "      <td>CA</td>\n",
       "      <td>-1</td>\n",
       "      <td>public</td>\n",
       "      <td>0</td>\n",
       "      <td>not_found</td>\n",
       "      <td>72</td>\n",
       "    </tr>\n",
       "    <tr>\n",
       "      <th>1</th>\n",
       "      <td>184167702</td>\n",
       "      <td>2014-05-20 18:52:00</td>\n",
       "      <td>NOTE: This event is EVERY FRIDAY!! Signup is a...</td>\n",
       "      <td>77400</td>\n",
       "      <td>https://www.meetup.com/hr-and-tech-sf/events/1...</td>\n",
       "      <td>others</td>\n",
       "      <td>0.0</td>\n",
       "      <td>not_found</td>\n",
       "      <td>per person</td>\n",
       "      <td>Price</td>\n",
       "      <td>...</td>\n",
       "      <td>-122.405457</td>\n",
       "      <td>Horizon Lounge</td>\n",
       "      <td>-1</td>\n",
       "      <td>0</td>\n",
       "      <td>CA</td>\n",
       "      <td>-1</td>\n",
       "      <td>public</td>\n",
       "      <td>0</td>\n",
       "      <td>not_found</td>\n",
       "      <td>179</td>\n",
       "    </tr>\n",
       "    <tr>\n",
       "      <th>2</th>\n",
       "      <td>215200502</td>\n",
       "      <td>2014-10-23 16:18:44</td>\n",
       "      <td>We'll be heading out with a group of travelers...</td>\n",
       "      <td>37800</td>\n",
       "      <td>https://www.meetup.com/hr-and-tech-sf/events/2...</td>\n",
       "      <td>others</td>\n",
       "      <td>0.0</td>\n",
       "      <td>not_found</td>\n",
       "      <td>per person</td>\n",
       "      <td>Price</td>\n",
       "      <td>...</td>\n",
       "      <td>-122.407394</td>\n",
       "      <td>taste of vietnam noodle bar</td>\n",
       "      <td>-1</td>\n",
       "      <td>0</td>\n",
       "      <td>CA</td>\n",
       "      <td>-1</td>\n",
       "      <td>public</td>\n",
       "      <td>0</td>\n",
       "      <td>not_found</td>\n",
       "      <td>45</td>\n",
       "    </tr>\n",
       "  </tbody>\n",
       "</table>\n",
       "<p>3 rows × 48 columns</p>\n",
       "</div>"
      ],
      "text/plain": [
       "    event_id             created  \\\n",
       "0  153868222 2013-12-03 21:24:29   \n",
       "1  184167702 2014-05-20 18:52:00   \n",
       "2  215200502 2014-10-23 16:18:44   \n",
       "\n",
       "                                         description  duration  \\\n",
       "0  Solve the murder case while eating a 3 course ...     20700   \n",
       "1  NOTE: This event is EVERY FRIDAY!! Signup is a...     77400   \n",
       "2  We'll be heading out with a group of travelers...     37800   \n",
       "\n",
       "                                           event_url fee.accepts  fee.amount  \\\n",
       "0  https://www.meetup.com/SanFranciscoStartupFun/...      others         0.0   \n",
       "1  https://www.meetup.com/hr-and-tech-sf/events/1...      others         0.0   \n",
       "2  https://www.meetup.com/hr-and-tech-sf/events/2...      others         0.0   \n",
       "\n",
       "  fee.currency fee.description fee.label  ...   venue.lon  \\\n",
       "0    not_found      per person     Price  ... -122.405690   \n",
       "1    not_found      per person     Price  ... -122.405457   \n",
       "2    not_found      per person     Price  ... -122.407394   \n",
       "\n",
       "                    venue.name  venue.phone  venue.repinned  venue.state  \\\n",
       "0              Little Szechuan           -1               1           CA   \n",
       "1               Horizon Lounge           -1               0           CA   \n",
       "2  taste of vietnam noodle bar           -1               0           CA   \n",
       "\n",
       "  venue.zip visibility waitlist_count        why  yes_rsvp_count  \n",
       "0        -1     public              0  not_found              72  \n",
       "1        -1     public              0  not_found             179  \n",
       "2        -1     public              0  not_found              45  \n",
       "\n",
       "[3 rows x 48 columns]"
      ]
     },
     "execution_count": 201,
     "metadata": {},
     "output_type": "execute_result"
    }
   ],
   "source": [
    "events.head(3)"
   ]
  },
  {
   "cell_type": "code",
   "execution_count": 202,
   "metadata": {},
   "outputs": [
    {
     "name": "stdout",
     "output_type": "stream",
     "text": [
      "<class 'pandas.core.frame.DataFrame'>\n",
      "RangeIndex: 5807 entries, 0 to 5806\n",
      "Data columns (total 48 columns):\n",
      " #   Column                        Non-Null Count  Dtype         \n",
      "---  ------                        --------------  -----         \n",
      " 0   event_id                      5807 non-null   object        \n",
      " 1   created                       5807 non-null   datetime64[ns]\n",
      " 2   description                   5795 non-null   object        \n",
      " 3   duration                      5807 non-null   int64         \n",
      " 4   event_url                     5807 non-null   object        \n",
      " 5   fee.accepts                   5807 non-null   object        \n",
      " 6   fee.amount                    5807 non-null   float64       \n",
      " 7   fee.currency                  5807 non-null   object        \n",
      " 8   fee.description               5807 non-null   object        \n",
      " 9   fee.label                     5807 non-null   object        \n",
      " 10  fee.required                  5807 non-null   int64         \n",
      " 11  group.created                 5807 non-null   object        \n",
      " 12  group.group_lat               5807 non-null   float64       \n",
      " 13  group.group_lon               5807 non-null   float64       \n",
      " 14  group_id                      5807 non-null   int64         \n",
      " 15  group.join_mode               5807 non-null   object        \n",
      " 16  group.name                    5807 non-null   object        \n",
      " 17  group.urlname                 5807 non-null   object        \n",
      " 18  group.who                     5807 non-null   object        \n",
      " 19  headcount                     5807 non-null   int64         \n",
      " 20  how_to_find_us                5807 non-null   object        \n",
      " 21  maybe_rsvp_count              5807 non-null   int64         \n",
      " 22  event_name                    5757 non-null   object        \n",
      " 23  photo_url                     5807 non-null   object        \n",
      " 24  rating.average                5807 non-null   float64       \n",
      " 25  rating.count                  5807 non-null   int64         \n",
      " 26  rsvp_limit                    5807 non-null   int64         \n",
      " 27  event_status                  5807 non-null   object        \n",
      " 28  event_time                    5807 non-null   datetime64[ns]\n",
      " 29  updated                       5807 non-null   datetime64[ns]\n",
      " 30  utc_offset                    5807 non-null   int64         \n",
      " 31  venue.address_1               5807 non-null   object        \n",
      " 32  venue.address_2               5807 non-null   object        \n",
      " 33  venue.city                    5807 non-null   object        \n",
      " 34  venue.country                 5807 non-null   object        \n",
      " 35  venue_id                      5807 non-null   int64         \n",
      " 36  venue.lat                     5807 non-null   float64       \n",
      " 37  venue.localized_country_name  5807 non-null   object        \n",
      " 38  venue.lon                     5807 non-null   float64       \n",
      " 39  venue.name                    5807 non-null   object        \n",
      " 40  venue.phone                   5807 non-null   int64         \n",
      " 41  venue.repinned                5807 non-null   int64         \n",
      " 42  venue.state                   5807 non-null   object        \n",
      " 43  venue.zip                     5807 non-null   int64         \n",
      " 44  visibility                    5807 non-null   object        \n",
      " 45  waitlist_count                5807 non-null   int64         \n",
      " 46  why                           5807 non-null   object        \n",
      " 47  yes_rsvp_count                5807 non-null   int64         \n",
      "dtypes: datetime64[ns](3), float64(6), int64(14), object(25)\n",
      "memory usage: 2.1+ MB\n"
     ]
    },
    {
     "data": {
      "text/html": [
       "<div>\n",
       "<style scoped>\n",
       "    .dataframe tbody tr th:only-of-type {\n",
       "        vertical-align: middle;\n",
       "    }\n",
       "\n",
       "    .dataframe tbody tr th {\n",
       "        vertical-align: top;\n",
       "    }\n",
       "\n",
       "    .dataframe thead th {\n",
       "        text-align: right;\n",
       "    }\n",
       "</style>\n",
       "<table border=\"1\" class=\"dataframe\">\n",
       "  <thead>\n",
       "    <tr style=\"text-align: right;\">\n",
       "      <th></th>\n",
       "      <th>duration</th>\n",
       "      <th>fee.amount</th>\n",
       "      <th>fee.required</th>\n",
       "      <th>group.group_lat</th>\n",
       "      <th>group.group_lon</th>\n",
       "      <th>group_id</th>\n",
       "      <th>headcount</th>\n",
       "      <th>maybe_rsvp_count</th>\n",
       "      <th>rating.average</th>\n",
       "      <th>rating.count</th>\n",
       "      <th>rsvp_limit</th>\n",
       "      <th>utc_offset</th>\n",
       "      <th>venue_id</th>\n",
       "      <th>venue.lat</th>\n",
       "      <th>venue.lon</th>\n",
       "      <th>venue.phone</th>\n",
       "      <th>venue.repinned</th>\n",
       "      <th>venue.zip</th>\n",
       "      <th>waitlist_count</th>\n",
       "      <th>yes_rsvp_count</th>\n",
       "    </tr>\n",
       "  </thead>\n",
       "  <tbody>\n",
       "    <tr>\n",
       "      <th>count</th>\n",
       "      <td>5.807000e+03</td>\n",
       "      <td>5807.000000</td>\n",
       "      <td>5807.000000</td>\n",
       "      <td>5807.000000</td>\n",
       "      <td>5807.000000</td>\n",
       "      <td>5.807000e+03</td>\n",
       "      <td>5807.0</td>\n",
       "      <td>5807.0</td>\n",
       "      <td>5807.0</td>\n",
       "      <td>5807.0</td>\n",
       "      <td>5807.000000</td>\n",
       "      <td>5807.000000</td>\n",
       "      <td>5.807000e+03</td>\n",
       "      <td>5807.000000</td>\n",
       "      <td>5807.000000</td>\n",
       "      <td>5.807000e+03</td>\n",
       "      <td>5807.000000</td>\n",
       "      <td>5807.0</td>\n",
       "      <td>5807.000000</td>\n",
       "      <td>5807.000000</td>\n",
       "    </tr>\n",
       "    <tr>\n",
       "      <th>mean</th>\n",
       "      <td>1.076900e+04</td>\n",
       "      <td>3.668807</td>\n",
       "      <td>0.056828</td>\n",
       "      <td>40.327923</td>\n",
       "      <td>-93.742630</td>\n",
       "      <td>1.090448e+07</td>\n",
       "      <td>0.0</td>\n",
       "      <td>0.0</td>\n",
       "      <td>0.0</td>\n",
       "      <td>-1.0</td>\n",
       "      <td>3.603926</td>\n",
       "      <td>-20336.559325</td>\n",
       "      <td>1.697753e+07</td>\n",
       "      <td>38.565308</td>\n",
       "      <td>-89.092143</td>\n",
       "      <td>2.801673e+08</td>\n",
       "      <td>0.000861</td>\n",
       "      <td>-1.0</td>\n",
       "      <td>0.005338</td>\n",
       "      <td>3.132082</td>\n",
       "    </tr>\n",
       "    <tr>\n",
       "      <th>std</th>\n",
       "      <td>2.822028e+04</td>\n",
       "      <td>11.840787</td>\n",
       "      <td>0.231534</td>\n",
       "      <td>1.724731</td>\n",
       "      <td>19.441048</td>\n",
       "      <td>8.524725e+06</td>\n",
       "      <td>0.0</td>\n",
       "      <td>0.0</td>\n",
       "      <td>0.0</td>\n",
       "      <td>0.0</td>\n",
       "      <td>21.141515</td>\n",
       "      <td>4643.756684</td>\n",
       "      <td>9.638309e+06</td>\n",
       "      <td>8.548076</td>\n",
       "      <td>26.900661</td>\n",
       "      <td>1.143346e+09</td>\n",
       "      <td>0.029333</td>\n",
       "      <td>0.0</td>\n",
       "      <td>0.224581</td>\n",
       "      <td>10.310339</td>\n",
       "    </tr>\n",
       "    <tr>\n",
       "      <th>min</th>\n",
       "      <td>2.700000e+03</td>\n",
       "      <td>0.000000</td>\n",
       "      <td>0.000000</td>\n",
       "      <td>37.720001</td>\n",
       "      <td>-122.489998</td>\n",
       "      <td>2.371300e+04</td>\n",
       "      <td>0.0</td>\n",
       "      <td>0.0</td>\n",
       "      <td>0.0</td>\n",
       "      <td>-1.0</td>\n",
       "      <td>-1.000000</td>\n",
       "      <td>-28800.000000</td>\n",
       "      <td>1.189800e+04</td>\n",
       "      <td>0.000000</td>\n",
       "      <td>-122.500839</td>\n",
       "      <td>-1.000000e+00</td>\n",
       "      <td>0.000000</td>\n",
       "      <td>-1.0</td>\n",
       "      <td>0.000000</td>\n",
       "      <td>0.000000</td>\n",
       "    </tr>\n",
       "    <tr>\n",
       "      <th>25%</th>\n",
       "      <td>1.080000e+04</td>\n",
       "      <td>0.000000</td>\n",
       "      <td>0.000000</td>\n",
       "      <td>37.790001</td>\n",
       "      <td>-122.400002</td>\n",
       "      <td>2.148441e+06</td>\n",
       "      <td>0.0</td>\n",
       "      <td>0.0</td>\n",
       "      <td>0.0</td>\n",
       "      <td>-1.0</td>\n",
       "      <td>-1.000000</td>\n",
       "      <td>-25200.000000</td>\n",
       "      <td>6.817642e+06</td>\n",
       "      <td>37.782158</td>\n",
       "      <td>-122.397247</td>\n",
       "      <td>-1.000000e+00</td>\n",
       "      <td>0.000000</td>\n",
       "      <td>-1.0</td>\n",
       "      <td>0.000000</td>\n",
       "      <td>1.000000</td>\n",
       "    </tr>\n",
       "    <tr>\n",
       "      <th>50%</th>\n",
       "      <td>1.080000e+04</td>\n",
       "      <td>0.000000</td>\n",
       "      <td>0.000000</td>\n",
       "      <td>40.759998</td>\n",
       "      <td>-87.629997</td>\n",
       "      <td>1.083014e+07</td>\n",
       "      <td>0.0</td>\n",
       "      <td>0.0</td>\n",
       "      <td>0.0</td>\n",
       "      <td>-1.0</td>\n",
       "      <td>-1.000000</td>\n",
       "      <td>-18000.000000</td>\n",
       "      <td>2.377575e+07</td>\n",
       "      <td>40.754713</td>\n",
       "      <td>-87.634956</td>\n",
       "      <td>-1.000000e+00</td>\n",
       "      <td>0.000000</td>\n",
       "      <td>-1.0</td>\n",
       "      <td>0.000000</td>\n",
       "      <td>1.000000</td>\n",
       "    </tr>\n",
       "    <tr>\n",
       "      <th>75%</th>\n",
       "      <td>1.080000e+04</td>\n",
       "      <td>0.000000</td>\n",
       "      <td>0.000000</td>\n",
       "      <td>41.889999</td>\n",
       "      <td>-73.989998</td>\n",
       "      <td>1.847215e+07</td>\n",
       "      <td>0.0</td>\n",
       "      <td>0.0</td>\n",
       "      <td>0.0</td>\n",
       "      <td>-1.0</td>\n",
       "      <td>-1.000000</td>\n",
       "      <td>-18000.000000</td>\n",
       "      <td>2.456492e+07</td>\n",
       "      <td>41.882813</td>\n",
       "      <td>-73.986969</td>\n",
       "      <td>-1.000000e+00</td>\n",
       "      <td>0.000000</td>\n",
       "      <td>-1.0</td>\n",
       "      <td>0.000000</td>\n",
       "      <td>2.000000</td>\n",
       "    </tr>\n",
       "    <tr>\n",
       "      <th>max</th>\n",
       "      <td>1.209600e+06</td>\n",
       "      <td>95.000000</td>\n",
       "      <td>1.000000</td>\n",
       "      <td>42.009998</td>\n",
       "      <td>-73.919998</td>\n",
       "      <td>2.633305e+07</td>\n",
       "      <td>0.0</td>\n",
       "      <td>0.0</td>\n",
       "      <td>0.0</td>\n",
       "      <td>-1.0</td>\n",
       "      <td>200.000000</td>\n",
       "      <td>-14400.000000</td>\n",
       "      <td>2.557363e+07</td>\n",
       "      <td>42.056324</td>\n",
       "      <td>0.000000</td>\n",
       "      <td>9.142638e+09</td>\n",
       "      <td>1.000000</td>\n",
       "      <td>-1.0</td>\n",
       "      <td>15.000000</td>\n",
       "      <td>198.000000</td>\n",
       "    </tr>\n",
       "  </tbody>\n",
       "</table>\n",
       "</div>"
      ],
      "text/plain": [
       "           duration   fee.amount  fee.required  group.group_lat  \\\n",
       "count  5.807000e+03  5807.000000   5807.000000      5807.000000   \n",
       "mean   1.076900e+04     3.668807      0.056828        40.327923   \n",
       "std    2.822028e+04    11.840787      0.231534         1.724731   \n",
       "min    2.700000e+03     0.000000      0.000000        37.720001   \n",
       "25%    1.080000e+04     0.000000      0.000000        37.790001   \n",
       "50%    1.080000e+04     0.000000      0.000000        40.759998   \n",
       "75%    1.080000e+04     0.000000      0.000000        41.889999   \n",
       "max    1.209600e+06    95.000000      1.000000        42.009998   \n",
       "\n",
       "       group.group_lon      group_id  headcount  maybe_rsvp_count  \\\n",
       "count      5807.000000  5.807000e+03     5807.0            5807.0   \n",
       "mean        -93.742630  1.090448e+07        0.0               0.0   \n",
       "std          19.441048  8.524725e+06        0.0               0.0   \n",
       "min        -122.489998  2.371300e+04        0.0               0.0   \n",
       "25%        -122.400002  2.148441e+06        0.0               0.0   \n",
       "50%         -87.629997  1.083014e+07        0.0               0.0   \n",
       "75%         -73.989998  1.847215e+07        0.0               0.0   \n",
       "max         -73.919998  2.633305e+07        0.0               0.0   \n",
       "\n",
       "       rating.average  rating.count   rsvp_limit    utc_offset      venue_id  \\\n",
       "count          5807.0        5807.0  5807.000000   5807.000000  5.807000e+03   \n",
       "mean              0.0          -1.0     3.603926 -20336.559325  1.697753e+07   \n",
       "std               0.0           0.0    21.141515   4643.756684  9.638309e+06   \n",
       "min               0.0          -1.0    -1.000000 -28800.000000  1.189800e+04   \n",
       "25%               0.0          -1.0    -1.000000 -25200.000000  6.817642e+06   \n",
       "50%               0.0          -1.0    -1.000000 -18000.000000  2.377575e+07   \n",
       "75%               0.0          -1.0    -1.000000 -18000.000000  2.456492e+07   \n",
       "max               0.0          -1.0   200.000000 -14400.000000  2.557363e+07   \n",
       "\n",
       "         venue.lat    venue.lon   venue.phone  venue.repinned  venue.zip  \\\n",
       "count  5807.000000  5807.000000  5.807000e+03     5807.000000     5807.0   \n",
       "mean     38.565308   -89.092143  2.801673e+08        0.000861       -1.0   \n",
       "std       8.548076    26.900661  1.143346e+09        0.029333        0.0   \n",
       "min       0.000000  -122.500839 -1.000000e+00        0.000000       -1.0   \n",
       "25%      37.782158  -122.397247 -1.000000e+00        0.000000       -1.0   \n",
       "50%      40.754713   -87.634956 -1.000000e+00        0.000000       -1.0   \n",
       "75%      41.882813   -73.986969 -1.000000e+00        0.000000       -1.0   \n",
       "max      42.056324     0.000000  9.142638e+09        1.000000       -1.0   \n",
       "\n",
       "       waitlist_count  yes_rsvp_count  \n",
       "count     5807.000000     5807.000000  \n",
       "mean         0.005338        3.132082  \n",
       "std          0.224581       10.310339  \n",
       "min          0.000000        0.000000  \n",
       "25%          0.000000        1.000000  \n",
       "50%          0.000000        1.000000  \n",
       "75%          0.000000        2.000000  \n",
       "max         15.000000      198.000000  "
      ]
     },
     "execution_count": 202,
     "metadata": {},
     "output_type": "execute_result"
    }
   ],
   "source": [
    "events.info()\n",
    "events.describe()"
   ]
  },
  {
   "cell_type": "code",
   "execution_count": 203,
   "metadata": {},
   "outputs": [
    {
     "data": {
      "text/html": [
       "<div>\n",
       "<style scoped>\n",
       "    .dataframe tbody tr th:only-of-type {\n",
       "        vertical-align: middle;\n",
       "    }\n",
       "\n",
       "    .dataframe tbody tr th {\n",
       "        vertical-align: top;\n",
       "    }\n",
       "\n",
       "    .dataframe thead th {\n",
       "        text-align: right;\n",
       "    }\n",
       "</style>\n",
       "<table border=\"1\" class=\"dataframe\">\n",
       "  <thead>\n",
       "    <tr style=\"text-align: right;\">\n",
       "      <th></th>\n",
       "      <th>group_id</th>\n",
       "      <th>category_id</th>\n",
       "      <th>category.name</th>\n",
       "      <th>category.shortname</th>\n",
       "      <th>city_id</th>\n",
       "      <th>city</th>\n",
       "      <th>country</th>\n",
       "      <th>created</th>\n",
       "      <th>description</th>\n",
       "      <th>group_photo.base_url</th>\n",
       "      <th>...</th>\n",
       "      <th>organizer.photo.photo_link</th>\n",
       "      <th>organizer.photo.thumb_link</th>\n",
       "      <th>organizer.photo.type</th>\n",
       "      <th>rating</th>\n",
       "      <th>state</th>\n",
       "      <th>timezone</th>\n",
       "      <th>urlname</th>\n",
       "      <th>utc_offset</th>\n",
       "      <th>visibility</th>\n",
       "      <th>who</th>\n",
       "    </tr>\n",
       "  </thead>\n",
       "  <tbody>\n",
       "    <tr>\n",
       "      <th>0</th>\n",
       "      <td>6388</td>\n",
       "      <td>14</td>\n",
       "      <td>health/wellbeing</td>\n",
       "      <td>health-wellbeing</td>\n",
       "      <td>10001</td>\n",
       "      <td>New York</td>\n",
       "      <td>US</td>\n",
       "      <td>2002-11-21 16:50:46</td>\n",
       "      <td>Those who practice or hold a strong interest i...</td>\n",
       "      <td>https://secure.meetupstatic.com</td>\n",
       "      <td>...</td>\n",
       "      <td>https://secure.meetupstatic.com/photos/member/...</td>\n",
       "      <td>https://secure.meetupstatic.com/photos/member/...</td>\n",
       "      <td>member</td>\n",
       "      <td>4.39</td>\n",
       "      <td>NY</td>\n",
       "      <td>US/Eastern</td>\n",
       "      <td>alternative-health-nyc</td>\n",
       "      <td>-14400</td>\n",
       "      <td>public</td>\n",
       "      <td>Explorers of Health</td>\n",
       "    </tr>\n",
       "    <tr>\n",
       "      <th>1</th>\n",
       "      <td>6510</td>\n",
       "      <td>4</td>\n",
       "      <td>community/environment</td>\n",
       "      <td>community-environment</td>\n",
       "      <td>10001</td>\n",
       "      <td>New York</td>\n",
       "      <td>US</td>\n",
       "      <td>2003-05-20 14:48:54</td>\n",
       "      <td>The New York Alternative Energy Meetupis for t...</td>\n",
       "      <td>https://secure.meetupstatic.com</td>\n",
       "      <td>...</td>\n",
       "      <td>https://secure.meetupstatic.com/photos/member/...</td>\n",
       "      <td>https://secure.meetupstatic.com/photos/member/...</td>\n",
       "      <td>member</td>\n",
       "      <td>4.31</td>\n",
       "      <td>NY</td>\n",
       "      <td>US/Eastern</td>\n",
       "      <td>alternative-energy-meetup</td>\n",
       "      <td>-14400</td>\n",
       "      <td>public</td>\n",
       "      <td>Clean Energy Supporters</td>\n",
       "    </tr>\n",
       "    <tr>\n",
       "      <th>2</th>\n",
       "      <td>8458</td>\n",
       "      <td>26</td>\n",
       "      <td>pets/animals</td>\n",
       "      <td>pets-animals</td>\n",
       "      <td>10001</td>\n",
       "      <td>New York</td>\n",
       "      <td>US</td>\n",
       "      <td>2004-03-27 09:55:41</td>\n",
       "      <td>not_found</td>\n",
       "      <td>https://secure.meetupstatic.com</td>\n",
       "      <td>...</td>\n",
       "      <td>https://secure.meetupstatic.com/photos/member/...</td>\n",
       "      <td>https://secure.meetupstatic.com/photos/member/...</td>\n",
       "      <td>member</td>\n",
       "      <td>4.84</td>\n",
       "      <td>NY</td>\n",
       "      <td>US/Eastern</td>\n",
       "      <td>Animals</td>\n",
       "      <td>-14400</td>\n",
       "      <td>public</td>\n",
       "      <td>Animal Voices</td>\n",
       "    </tr>\n",
       "  </tbody>\n",
       "</table>\n",
       "<p>3 rows × 36 columns</p>\n",
       "</div>"
      ],
      "text/plain": [
       "   group_id  category_id          category.name     category.shortname  \\\n",
       "0      6388           14       health/wellbeing       health-wellbeing   \n",
       "1      6510            4  community/environment  community-environment   \n",
       "2      8458           26           pets/animals           pets-animals   \n",
       "\n",
       "   city_id      city country             created  \\\n",
       "0    10001  New York      US 2002-11-21 16:50:46   \n",
       "1    10001  New York      US 2003-05-20 14:48:54   \n",
       "2    10001  New York      US 2004-03-27 09:55:41   \n",
       "\n",
       "                                         description  \\\n",
       "0  Those who practice or hold a strong interest i...   \n",
       "1  The New York Alternative Energy Meetupis for t...   \n",
       "2                                          not_found   \n",
       "\n",
       "              group_photo.base_url  ...  \\\n",
       "0  https://secure.meetupstatic.com  ...   \n",
       "1  https://secure.meetupstatic.com  ...   \n",
       "2  https://secure.meetupstatic.com  ...   \n",
       "\n",
       "                          organizer.photo.photo_link  \\\n",
       "0  https://secure.meetupstatic.com/photos/member/...   \n",
       "1  https://secure.meetupstatic.com/photos/member/...   \n",
       "2  https://secure.meetupstatic.com/photos/member/...   \n",
       "\n",
       "                          organizer.photo.thumb_link organizer.photo.type  \\\n",
       "0  https://secure.meetupstatic.com/photos/member/...               member   \n",
       "1  https://secure.meetupstatic.com/photos/member/...               member   \n",
       "2  https://secure.meetupstatic.com/photos/member/...               member   \n",
       "\n",
       "  rating state    timezone                    urlname utc_offset  visibility  \\\n",
       "0   4.39    NY  US/Eastern     alternative-health-nyc     -14400      public   \n",
       "1   4.31    NY  US/Eastern  alternative-energy-meetup     -14400      public   \n",
       "2   4.84    NY  US/Eastern                    Animals     -14400      public   \n",
       "\n",
       "                       who  \n",
       "0      Explorers of Health  \n",
       "1  Clean Energy Supporters  \n",
       "2            Animal Voices  \n",
       "\n",
       "[3 rows x 36 columns]"
      ]
     },
     "execution_count": 203,
     "metadata": {},
     "output_type": "execute_result"
    }
   ],
   "source": [
    "groups.head(3)"
   ]
  },
  {
   "cell_type": "code",
   "execution_count": 204,
   "metadata": {},
   "outputs": [
    {
     "name": "stdout",
     "output_type": "stream",
     "text": [
      "<class 'pandas.core.frame.DataFrame'>\n",
      "RangeIndex: 16330 entries, 0 to 16329\n",
      "Data columns (total 36 columns):\n",
      " #   Column                        Non-Null Count  Dtype         \n",
      "---  ------                        --------------  -----         \n",
      " 0   group_id                      16330 non-null  int64         \n",
      " 1   category_id                   16330 non-null  int64         \n",
      " 2   category.name                 16330 non-null  object        \n",
      " 3   category.shortname            16330 non-null  object        \n",
      " 4   city_id                       16330 non-null  int64         \n",
      " 5   city                          16330 non-null  object        \n",
      " 6   country                       16330 non-null  object        \n",
      " 7   created                       16330 non-null  datetime64[ns]\n",
      " 8   description                   16328 non-null  object        \n",
      " 9   group_photo.base_url          16330 non-null  object        \n",
      " 10  group_photo.highres_link      16330 non-null  object        \n",
      " 11  group_photo.photo_id          16330 non-null  int64         \n",
      " 12  group_photo.photo_link        16330 non-null  object        \n",
      " 13  group_photo.thumb_link        16330 non-null  object        \n",
      " 14  group_photo.type              16330 non-null  object        \n",
      " 15  join_mode                     16330 non-null  object        \n",
      " 16  lat                           16330 non-null  float64       \n",
      " 17  link                          16330 non-null  object        \n",
      " 18  lon                           16330 non-null  float64       \n",
      " 19  members                       16330 non-null  int64         \n",
      " 20  group_name                    16329 non-null  object        \n",
      " 21  organizer.member_id           16330 non-null  int64         \n",
      " 22  organizer.name                16330 non-null  object        \n",
      " 23  organizer.photo.base_url      16330 non-null  object        \n",
      " 24  organizer.photo.highres_link  16330 non-null  object        \n",
      " 25  organizer.photo.photo_id      16330 non-null  int64         \n",
      " 26  organizer.photo.photo_link    16330 non-null  object        \n",
      " 27  organizer.photo.thumb_link    16330 non-null  object        \n",
      " 28  organizer.photo.type          16330 non-null  object        \n",
      " 29  rating                        16330 non-null  float64       \n",
      " 30  state                         16330 non-null  object        \n",
      " 31  timezone                      16330 non-null  object        \n",
      " 32  urlname                       16329 non-null  object        \n",
      " 33  utc_offset                    16330 non-null  int64         \n",
      " 34  visibility                    16330 non-null  object        \n",
      " 35  who                           16313 non-null  object        \n",
      "dtypes: datetime64[ns](1), float64(3), int64(8), object(24)\n",
      "memory usage: 4.5+ MB\n"
     ]
    },
    {
     "data": {
      "text/html": [
       "<div>\n",
       "<style scoped>\n",
       "    .dataframe tbody tr th:only-of-type {\n",
       "        vertical-align: middle;\n",
       "    }\n",
       "\n",
       "    .dataframe tbody tr th {\n",
       "        vertical-align: top;\n",
       "    }\n",
       "\n",
       "    .dataframe thead th {\n",
       "        text-align: right;\n",
       "    }\n",
       "</style>\n",
       "<table border=\"1\" class=\"dataframe\">\n",
       "  <thead>\n",
       "    <tr style=\"text-align: right;\">\n",
       "      <th></th>\n",
       "      <th>group_id</th>\n",
       "      <th>category_id</th>\n",
       "      <th>city_id</th>\n",
       "      <th>group_photo.photo_id</th>\n",
       "      <th>lat</th>\n",
       "      <th>lon</th>\n",
       "      <th>members</th>\n",
       "      <th>organizer.member_id</th>\n",
       "      <th>organizer.photo.photo_id</th>\n",
       "      <th>rating</th>\n",
       "      <th>utc_offset</th>\n",
       "    </tr>\n",
       "  </thead>\n",
       "  <tbody>\n",
       "    <tr>\n",
       "      <th>count</th>\n",
       "      <td>1.633000e+04</td>\n",
       "      <td>16330.000000</td>\n",
       "      <td>16330.000000</td>\n",
       "      <td>1.633000e+04</td>\n",
       "      <td>16330.000000</td>\n",
       "      <td>16330.000000</td>\n",
       "      <td>16330.000000</td>\n",
       "      <td>1.633000e+04</td>\n",
       "      <td>1.633000e+04</td>\n",
       "      <td>16330.000000</td>\n",
       "      <td>16330.000000</td>\n",
       "    </tr>\n",
       "    <tr>\n",
       "      <th>mean</th>\n",
       "      <td>1.553397e+07</td>\n",
       "      <td>19.603001</td>\n",
       "      <td>43408.562890</td>\n",
       "      <td>2.059619e+08</td>\n",
       "      <td>40.140646</td>\n",
       "      <td>-90.212809</td>\n",
       "      <td>684.799449</td>\n",
       "      <td>9.739235e+07</td>\n",
       "      <td>1.794147e+08</td>\n",
       "      <td>2.965279</td>\n",
       "      <td>-18126.099204</td>\n",
       "    </tr>\n",
       "    <tr>\n",
       "      <th>std</th>\n",
       "      <td>8.812990e+06</td>\n",
       "      <td>12.373332</td>\n",
       "      <td>36927.850053</td>\n",
       "      <td>2.111990e+08</td>\n",
       "      <td>1.537301</td>\n",
       "      <td>20.739570</td>\n",
       "      <td>1500.769097</td>\n",
       "      <td>8.743709e+07</td>\n",
       "      <td>1.039024e+08</td>\n",
       "      <td>2.305211</td>\n",
       "      <td>4616.477639</td>\n",
       "    </tr>\n",
       "    <tr>\n",
       "      <th>min</th>\n",
       "      <td>6.388000e+03</td>\n",
       "      <td>1.000000</td>\n",
       "      <td>7093.000000</td>\n",
       "      <td>-1.000000e+00</td>\n",
       "      <td>37.610001</td>\n",
       "      <td>-122.489998</td>\n",
       "      <td>1.000000</td>\n",
       "      <td>-1.000000e+00</td>\n",
       "      <td>-1.000000e+00</td>\n",
       "      <td>0.000000</td>\n",
       "      <td>-25200.000000</td>\n",
       "    </tr>\n",
       "    <tr>\n",
       "      <th>25%</th>\n",
       "      <td>6.648432e+06</td>\n",
       "      <td>8.000000</td>\n",
       "      <td>10001.000000</td>\n",
       "      <td>-1.000000e+00</td>\n",
       "      <td>37.790001</td>\n",
       "      <td>-122.400002</td>\n",
       "      <td>59.000000</td>\n",
       "      <td>1.089003e+07</td>\n",
       "      <td>7.703132e+07</td>\n",
       "      <td>0.000000</td>\n",
       "      <td>-25200.000000</td>\n",
       "    </tr>\n",
       "    <tr>\n",
       "      <th>50%</th>\n",
       "      <td>1.897090e+07</td>\n",
       "      <td>21.000000</td>\n",
       "      <td>10001.000000</td>\n",
       "      <td>1.081865e+08</td>\n",
       "      <td>40.750000</td>\n",
       "      <td>-74.000000</td>\n",
       "      <td>207.000000</td>\n",
       "      <td>7.353206e+07</td>\n",
       "      <td>2.458454e+08</td>\n",
       "      <td>4.570000</td>\n",
       "      <td>-14400.000000</td>\n",
       "    </tr>\n",
       "    <tr>\n",
       "      <th>75%</th>\n",
       "      <td>2.259329e+07</td>\n",
       "      <td>32.750000</td>\n",
       "      <td>94101.000000</td>\n",
       "      <td>4.487939e+08</td>\n",
       "      <td>40.779999</td>\n",
       "      <td>-73.989998</td>\n",
       "      <td>672.000000</td>\n",
       "      <td>1.904053e+08</td>\n",
       "      <td>2.612429e+08</td>\n",
       "      <td>4.900000</td>\n",
       "      <td>-14400.000000</td>\n",
       "    </tr>\n",
       "    <tr>\n",
       "      <th>max</th>\n",
       "      <td>2.637847e+07</td>\n",
       "      <td>36.000000</td>\n",
       "      <td>94101.000000</td>\n",
       "      <td>4.656110e+08</td>\n",
       "      <td>42.330002</td>\n",
       "      <td>-73.919998</td>\n",
       "      <td>31215.000000</td>\n",
       "      <td>2.396651e+08</td>\n",
       "      <td>2.718351e+08</td>\n",
       "      <td>5.000000</td>\n",
       "      <td>-14400.000000</td>\n",
       "    </tr>\n",
       "  </tbody>\n",
       "</table>\n",
       "</div>"
      ],
      "text/plain": [
       "           group_id   category_id       city_id  group_photo.photo_id  \\\n",
       "count  1.633000e+04  16330.000000  16330.000000          1.633000e+04   \n",
       "mean   1.553397e+07     19.603001  43408.562890          2.059619e+08   \n",
       "std    8.812990e+06     12.373332  36927.850053          2.111990e+08   \n",
       "min    6.388000e+03      1.000000   7093.000000         -1.000000e+00   \n",
       "25%    6.648432e+06      8.000000  10001.000000         -1.000000e+00   \n",
       "50%    1.897090e+07     21.000000  10001.000000          1.081865e+08   \n",
       "75%    2.259329e+07     32.750000  94101.000000          4.487939e+08   \n",
       "max    2.637847e+07     36.000000  94101.000000          4.656110e+08   \n",
       "\n",
       "                lat           lon       members  organizer.member_id  \\\n",
       "count  16330.000000  16330.000000  16330.000000         1.633000e+04   \n",
       "mean      40.140646    -90.212809    684.799449         9.739235e+07   \n",
       "std        1.537301     20.739570   1500.769097         8.743709e+07   \n",
       "min       37.610001   -122.489998      1.000000        -1.000000e+00   \n",
       "25%       37.790001   -122.400002     59.000000         1.089003e+07   \n",
       "50%       40.750000    -74.000000    207.000000         7.353206e+07   \n",
       "75%       40.779999    -73.989998    672.000000         1.904053e+08   \n",
       "max       42.330002    -73.919998  31215.000000         2.396651e+08   \n",
       "\n",
       "       organizer.photo.photo_id        rating    utc_offset  \n",
       "count              1.633000e+04  16330.000000  16330.000000  \n",
       "mean               1.794147e+08      2.965279 -18126.099204  \n",
       "std                1.039024e+08      2.305211   4616.477639  \n",
       "min               -1.000000e+00      0.000000 -25200.000000  \n",
       "25%                7.703132e+07      0.000000 -25200.000000  \n",
       "50%                2.458454e+08      4.570000 -14400.000000  \n",
       "75%                2.612429e+08      4.900000 -14400.000000  \n",
       "max                2.718351e+08      5.000000 -14400.000000  "
      ]
     },
     "execution_count": 204,
     "metadata": {},
     "output_type": "execute_result"
    }
   ],
   "source": [
    "groups.info()\n",
    "groups.describe()"
   ]
  },
  {
   "cell_type": "code",
   "execution_count": 205,
   "metadata": {},
   "outputs": [
    {
     "data": {
      "text/html": [
       "<div>\n",
       "<style scoped>\n",
       "    .dataframe tbody tr th:only-of-type {\n",
       "        vertical-align: middle;\n",
       "    }\n",
       "\n",
       "    .dataframe tbody tr th {\n",
       "        vertical-align: top;\n",
       "    }\n",
       "\n",
       "    .dataframe thead th {\n",
       "        text-align: right;\n",
       "    }\n",
       "</style>\n",
       "<table border=\"1\" class=\"dataframe\">\n",
       "  <thead>\n",
       "    <tr style=\"text-align: right;\">\n",
       "      <th></th>\n",
       "      <th>topic_id</th>\n",
       "      <th>topic_key</th>\n",
       "      <th>topic_name</th>\n",
       "      <th>group_id</th>\n",
       "    </tr>\n",
       "  </thead>\n",
       "  <tbody>\n",
       "    <tr>\n",
       "      <th>0</th>\n",
       "      <td>83</td>\n",
       "      <td>sportsfans</td>\n",
       "      <td>Sports Fan</td>\n",
       "      <td>241031</td>\n",
       "    </tr>\n",
       "    <tr>\n",
       "      <th>1</th>\n",
       "      <td>83</td>\n",
       "      <td>sportsfans</td>\n",
       "      <td>Sports Fan</td>\n",
       "      <td>289172</td>\n",
       "    </tr>\n",
       "    <tr>\n",
       "      <th>2</th>\n",
       "      <td>83</td>\n",
       "      <td>sportsfans</td>\n",
       "      <td>Sports Fan</td>\n",
       "      <td>295444</td>\n",
       "    </tr>\n",
       "  </tbody>\n",
       "</table>\n",
       "</div>"
      ],
      "text/plain": [
       "   topic_id   topic_key  topic_name  group_id\n",
       "0        83  sportsfans  Sports Fan    241031\n",
       "1        83  sportsfans  Sports Fan    289172\n",
       "2        83  sportsfans  Sports Fan    295444"
      ]
     },
     "execution_count": 205,
     "metadata": {},
     "output_type": "execute_result"
    }
   ],
   "source": [
    "groups_topics.head(3)"
   ]
  },
  {
   "cell_type": "code",
   "execution_count": 206,
   "metadata": {},
   "outputs": [
    {
     "name": "stdout",
     "output_type": "stream",
     "text": [
      "<class 'pandas.core.frame.DataFrame'>\n",
      "RangeIndex: 31212 entries, 0 to 31211\n",
      "Data columns (total 4 columns):\n",
      " #   Column      Non-Null Count  Dtype \n",
      "---  ------      --------------  ----- \n",
      " 0   topic_id    31212 non-null  int64 \n",
      " 1   topic_key   31212 non-null  object\n",
      " 2   topic_name  31212 non-null  object\n",
      " 3   group_id    31212 non-null  int64 \n",
      "dtypes: int64(2), object(2)\n",
      "memory usage: 975.5+ KB\n"
     ]
    },
    {
     "data": {
      "text/html": [
       "<div>\n",
       "<style scoped>\n",
       "    .dataframe tbody tr th:only-of-type {\n",
       "        vertical-align: middle;\n",
       "    }\n",
       "\n",
       "    .dataframe tbody tr th {\n",
       "        vertical-align: top;\n",
       "    }\n",
       "\n",
       "    .dataframe thead th {\n",
       "        text-align: right;\n",
       "    }\n",
       "</style>\n",
       "<table border=\"1\" class=\"dataframe\">\n",
       "  <thead>\n",
       "    <tr style=\"text-align: right;\">\n",
       "      <th></th>\n",
       "      <th>topic_id</th>\n",
       "      <th>group_id</th>\n",
       "    </tr>\n",
       "  </thead>\n",
       "  <tbody>\n",
       "    <tr>\n",
       "      <th>count</th>\n",
       "      <td>3.121200e+04</td>\n",
       "      <td>3.121200e+04</td>\n",
       "    </tr>\n",
       "    <tr>\n",
       "      <th>mean</th>\n",
       "      <td>2.362731e+04</td>\n",
       "      <td>1.519230e+07</td>\n",
       "    </tr>\n",
       "    <tr>\n",
       "      <th>std</th>\n",
       "      <td>7.221664e+04</td>\n",
       "      <td>8.964538e+06</td>\n",
       "    </tr>\n",
       "    <tr>\n",
       "      <th>min</th>\n",
       "      <td>8.300000e+01</td>\n",
       "      <td>6.388000e+03</td>\n",
       "    </tr>\n",
       "    <tr>\n",
       "      <th>25%</th>\n",
       "      <td>1.023200e+04</td>\n",
       "      <td>4.709332e+06</td>\n",
       "    </tr>\n",
       "    <tr>\n",
       "      <th>50%</th>\n",
       "      <td>1.567200e+04</td>\n",
       "      <td>1.878058e+07</td>\n",
       "    </tr>\n",
       "    <tr>\n",
       "      <th>75%</th>\n",
       "      <td>1.913000e+04</td>\n",
       "      <td>2.247070e+07</td>\n",
       "    </tr>\n",
       "    <tr>\n",
       "      <th>max</th>\n",
       "      <td>1.514434e+06</td>\n",
       "      <td>2.637847e+07</td>\n",
       "    </tr>\n",
       "  </tbody>\n",
       "</table>\n",
       "</div>"
      ],
      "text/plain": [
       "           topic_id      group_id\n",
       "count  3.121200e+04  3.121200e+04\n",
       "mean   2.362731e+04  1.519230e+07\n",
       "std    7.221664e+04  8.964538e+06\n",
       "min    8.300000e+01  6.388000e+03\n",
       "25%    1.023200e+04  4.709332e+06\n",
       "50%    1.567200e+04  1.878058e+07\n",
       "75%    1.913000e+04  2.247070e+07\n",
       "max    1.514434e+06  2.637847e+07"
      ]
     },
     "execution_count": 206,
     "metadata": {},
     "output_type": "execute_result"
    }
   ],
   "source": [
    "groups_topics.info()\n",
    "groups_topics.describe()"
   ]
  },
  {
   "cell_type": "code",
   "execution_count": 207,
   "metadata": {},
   "outputs": [
    {
     "data": {
      "text/html": [
       "<div>\n",
       "<style scoped>\n",
       "    .dataframe tbody tr th:only-of-type {\n",
       "        vertical-align: middle;\n",
       "    }\n",
       "\n",
       "    .dataframe tbody tr th {\n",
       "        vertical-align: top;\n",
       "    }\n",
       "\n",
       "    .dataframe thead th {\n",
       "        text-align: right;\n",
       "    }\n",
       "</style>\n",
       "<table border=\"1\" class=\"dataframe\">\n",
       "  <thead>\n",
       "    <tr style=\"text-align: right;\">\n",
       "      <th></th>\n",
       "      <th>member_id</th>\n",
       "      <th>bio</th>\n",
       "      <th>city</th>\n",
       "      <th>country</th>\n",
       "      <th>hometown</th>\n",
       "      <th>joined</th>\n",
       "      <th>lat</th>\n",
       "      <th>link</th>\n",
       "      <th>lon</th>\n",
       "      <th>member_name</th>\n",
       "      <th>state</th>\n",
       "      <th>member_status</th>\n",
       "      <th>visited</th>\n",
       "      <th>group_id</th>\n",
       "    </tr>\n",
       "  </thead>\n",
       "  <tbody>\n",
       "    <tr>\n",
       "      <th>0</th>\n",
       "      <td>3</td>\n",
       "      <td>not_found</td>\n",
       "      <td>New York</td>\n",
       "      <td>us</td>\n",
       "      <td>New York, NY</td>\n",
       "      <td>2007-05-01 22:04:37</td>\n",
       "      <td>40.72</td>\n",
       "      <td>http://www.meetup.com/members/3</td>\n",
       "      <td>-74.0</td>\n",
       "      <td>Matt Meeker</td>\n",
       "      <td>NY</td>\n",
       "      <td>active</td>\n",
       "      <td>2009-09-18 18:32:23</td>\n",
       "      <td>490552</td>\n",
       "    </tr>\n",
       "    <tr>\n",
       "      <th>1</th>\n",
       "      <td>3</td>\n",
       "      <td>not_found</td>\n",
       "      <td>New York</td>\n",
       "      <td>us</td>\n",
       "      <td>New York, NY</td>\n",
       "      <td>2011-01-23 14:13:17</td>\n",
       "      <td>40.72</td>\n",
       "      <td>http://www.meetup.com/members/3</td>\n",
       "      <td>-74.0</td>\n",
       "      <td>Matt Meeker</td>\n",
       "      <td>NY</td>\n",
       "      <td>active</td>\n",
       "      <td>2011-03-20 01:02:11</td>\n",
       "      <td>1474611</td>\n",
       "    </tr>\n",
       "    <tr>\n",
       "      <th>2</th>\n",
       "      <td>3</td>\n",
       "      <td>Hi, I'm Matt. I'm an entrepreneur who has star...</td>\n",
       "      <td>New York</td>\n",
       "      <td>us</td>\n",
       "      <td>New York, NY</td>\n",
       "      <td>2010-12-30 18:47:34</td>\n",
       "      <td>40.72</td>\n",
       "      <td>http://www.meetup.com/members/3</td>\n",
       "      <td>-74.0</td>\n",
       "      <td>Matt Meeker</td>\n",
       "      <td>NY</td>\n",
       "      <td>active</td>\n",
       "      <td>2011-01-18 20:37:23</td>\n",
       "      <td>1490492</td>\n",
       "    </tr>\n",
       "  </tbody>\n",
       "</table>\n",
       "</div>"
      ],
      "text/plain": [
       "   member_id                                                bio      city  \\\n",
       "0          3                                          not_found  New York   \n",
       "1          3                                          not_found  New York   \n",
       "2          3  Hi, I'm Matt. I'm an entrepreneur who has star...  New York   \n",
       "\n",
       "  country      hometown               joined    lat  \\\n",
       "0      us  New York, NY  2007-05-01 22:04:37  40.72   \n",
       "1      us  New York, NY  2011-01-23 14:13:17  40.72   \n",
       "2      us  New York, NY  2010-12-30 18:47:34  40.72   \n",
       "\n",
       "                              link   lon  member_name state member_status  \\\n",
       "0  http://www.meetup.com/members/3 -74.0  Matt Meeker    NY        active   \n",
       "1  http://www.meetup.com/members/3 -74.0  Matt Meeker    NY        active   \n",
       "2  http://www.meetup.com/members/3 -74.0  Matt Meeker    NY        active   \n",
       "\n",
       "               visited  group_id  \n",
       "0  2009-09-18 18:32:23    490552  \n",
       "1  2011-03-20 01:02:11   1474611  \n",
       "2  2011-01-18 20:37:23   1490492  "
      ]
     },
     "execution_count": 207,
     "metadata": {},
     "output_type": "execute_result"
    }
   ],
   "source": [
    "members.head(3)"
   ]
  },
  {
   "cell_type": "code",
   "execution_count": 208,
   "metadata": {},
   "outputs": [
    {
     "name": "stdout",
     "output_type": "stream",
     "text": [
      "<class 'pandas.core.frame.DataFrame'>\n",
      "RangeIndex: 5893886 entries, 0 to 5893885\n",
      "Data columns (total 14 columns):\n",
      " #   Column         Dtype  \n",
      "---  ------         -----  \n",
      " 0   member_id      int64  \n",
      " 1   bio            object \n",
      " 2   city           object \n",
      " 3   country        object \n",
      " 4   hometown       object \n",
      " 5   joined         object \n",
      " 6   lat            float64\n",
      " 7   link           object \n",
      " 8   lon            float64\n",
      " 9   member_name    object \n",
      " 10  state          object \n",
      " 11  member_status  object \n",
      " 12  visited        object \n",
      " 13  group_id       int64  \n",
      "dtypes: float64(2), int64(2), object(10)\n",
      "memory usage: 629.5+ MB\n"
     ]
    },
    {
     "data": {
      "text/html": [
       "<div>\n",
       "<style scoped>\n",
       "    .dataframe tbody tr th:only-of-type {\n",
       "        vertical-align: middle;\n",
       "    }\n",
       "\n",
       "    .dataframe tbody tr th {\n",
       "        vertical-align: top;\n",
       "    }\n",
       "\n",
       "    .dataframe thead th {\n",
       "        text-align: right;\n",
       "    }\n",
       "</style>\n",
       "<table border=\"1\" class=\"dataframe\">\n",
       "  <thead>\n",
       "    <tr style=\"text-align: right;\">\n",
       "      <th></th>\n",
       "      <th>member_id</th>\n",
       "      <th>lat</th>\n",
       "      <th>lon</th>\n",
       "      <th>group_id</th>\n",
       "    </tr>\n",
       "  </thead>\n",
       "  <tbody>\n",
       "    <tr>\n",
       "      <th>count</th>\n",
       "      <td>5.893886e+06</td>\n",
       "      <td>5.893886e+06</td>\n",
       "      <td>5.893886e+06</td>\n",
       "      <td>5.893886e+06</td>\n",
       "    </tr>\n",
       "    <tr>\n",
       "      <th>mean</th>\n",
       "      <td>1.311398e+08</td>\n",
       "      <td>4.022488e+01</td>\n",
       "      <td>-8.915527e+01</td>\n",
       "      <td>8.727874e+06</td>\n",
       "    </tr>\n",
       "    <tr>\n",
       "      <th>std</th>\n",
       "      <td>8.427712e+07</td>\n",
       "      <td>1.509859e+00</td>\n",
       "      <td>2.021045e+01</td>\n",
       "      <td>8.219662e+06</td>\n",
       "    </tr>\n",
       "    <tr>\n",
       "      <th>min</th>\n",
       "      <td>3.000000e+00</td>\n",
       "      <td>6.450000e+00</td>\n",
       "      <td>-1.227300e+02</td>\n",
       "      <td>6.388000e+03</td>\n",
       "    </tr>\n",
       "    <tr>\n",
       "      <th>25%</th>\n",
       "      <td>3.858790e+07</td>\n",
       "      <td>3.780000e+01</td>\n",
       "      <td>-1.223900e+02</td>\n",
       "      <td>1.492775e+06</td>\n",
       "    </tr>\n",
       "    <tr>\n",
       "      <th>50%</th>\n",
       "      <td>1.634015e+08</td>\n",
       "      <td>4.075000e+01</td>\n",
       "      <td>-7.400000e+01</td>\n",
       "      <td>4.535552e+06</td>\n",
       "    </tr>\n",
       "    <tr>\n",
       "      <th>75%</th>\n",
       "      <td>2.052591e+08</td>\n",
       "      <td>4.080000e+01</td>\n",
       "      <td>-7.399000e+01</td>\n",
       "      <td>1.835151e+07</td>\n",
       "    </tr>\n",
       "    <tr>\n",
       "      <th>max</th>\n",
       "      <td>2.408521e+08</td>\n",
       "      <td>5.993000e+01</td>\n",
       "      <td>1.239000e+02</td>\n",
       "      <td>2.637813e+07</td>\n",
       "    </tr>\n",
       "  </tbody>\n",
       "</table>\n",
       "</div>"
      ],
      "text/plain": [
       "          member_id           lat           lon      group_id\n",
       "count  5.893886e+06  5.893886e+06  5.893886e+06  5.893886e+06\n",
       "mean   1.311398e+08  4.022488e+01 -8.915527e+01  8.727874e+06\n",
       "std    8.427712e+07  1.509859e+00  2.021045e+01  8.219662e+06\n",
       "min    3.000000e+00  6.450000e+00 -1.227300e+02  6.388000e+03\n",
       "25%    3.858790e+07  3.780000e+01 -1.223900e+02  1.492775e+06\n",
       "50%    1.634015e+08  4.075000e+01 -7.400000e+01  4.535552e+06\n",
       "75%    2.052591e+08  4.080000e+01 -7.399000e+01  1.835151e+07\n",
       "max    2.408521e+08  5.993000e+01  1.239000e+02  2.637813e+07"
      ]
     },
     "execution_count": 208,
     "metadata": {},
     "output_type": "execute_result"
    }
   ],
   "source": [
    "members.info()\n",
    "members.describe()"
   ]
  },
  {
   "cell_type": "code",
   "execution_count": 209,
   "metadata": {},
   "outputs": [
    {
     "data": {
      "text/html": [
       "<div>\n",
       "<style scoped>\n",
       "    .dataframe tbody tr th:only-of-type {\n",
       "        vertical-align: middle;\n",
       "    }\n",
       "\n",
       "    .dataframe tbody tr th {\n",
       "        vertical-align: top;\n",
       "    }\n",
       "\n",
       "    .dataframe thead th {\n",
       "        text-align: right;\n",
       "    }\n",
       "</style>\n",
       "<table border=\"1\" class=\"dataframe\">\n",
       "  <thead>\n",
       "    <tr style=\"text-align: right;\">\n",
       "      <th></th>\n",
       "      <th>topic_id</th>\n",
       "      <th>topic_key</th>\n",
       "      <th>topic_name</th>\n",
       "      <th>member_id</th>\n",
       "    </tr>\n",
       "  </thead>\n",
       "  <tbody>\n",
       "    <tr>\n",
       "      <th>0</th>\n",
       "      <td>83</td>\n",
       "      <td>Sports Fan</td>\n",
       "      <td>sportsfans</td>\n",
       "      <td>121483</td>\n",
       "    </tr>\n",
       "    <tr>\n",
       "      <th>1</th>\n",
       "      <td>83</td>\n",
       "      <td>Sports Fan</td>\n",
       "      <td>sportsfans</td>\n",
       "      <td>165644</td>\n",
       "    </tr>\n",
       "    <tr>\n",
       "      <th>2</th>\n",
       "      <td>83</td>\n",
       "      <td>Sports Fan</td>\n",
       "      <td>sportsfans</td>\n",
       "      <td>327482</td>\n",
       "    </tr>\n",
       "  </tbody>\n",
       "</table>\n",
       "</div>"
      ],
      "text/plain": [
       "   topic_id   topic_key  topic_name  member_id\n",
       "0        83  Sports Fan  sportsfans     121483\n",
       "1        83  Sports Fan  sportsfans     165644\n",
       "2        83  Sports Fan  sportsfans     327482"
      ]
     },
     "execution_count": 209,
     "metadata": {},
     "output_type": "execute_result"
    }
   ],
   "source": [
    "members_topics.head(3)"
   ]
  },
  {
   "cell_type": "code",
   "execution_count": 210,
   "metadata": {},
   "outputs": [
    {
     "name": "stdout",
     "output_type": "stream",
     "text": [
      "<class 'pandas.core.frame.DataFrame'>\n",
      "RangeIndex: 3195245 entries, 0 to 3195244\n",
      "Data columns (total 4 columns):\n",
      " #   Column      Dtype \n",
      "---  ------      ----- \n",
      " 0   topic_id    int64 \n",
      " 1   topic_key   object\n",
      " 2   topic_name  object\n",
      " 3   member_id   int64 \n",
      "dtypes: int64(2), object(2)\n",
      "memory usage: 97.5+ MB\n"
     ]
    },
    {
     "data": {
      "text/html": [
       "<div>\n",
       "<style scoped>\n",
       "    .dataframe tbody tr th:only-of-type {\n",
       "        vertical-align: middle;\n",
       "    }\n",
       "\n",
       "    .dataframe tbody tr th {\n",
       "        vertical-align: top;\n",
       "    }\n",
       "\n",
       "    .dataframe thead th {\n",
       "        text-align: right;\n",
       "    }\n",
       "</style>\n",
       "<table border=\"1\" class=\"dataframe\">\n",
       "  <thead>\n",
       "    <tr style=\"text-align: right;\">\n",
       "      <th></th>\n",
       "      <th>topic_id</th>\n",
       "      <th>member_id</th>\n",
       "    </tr>\n",
       "  </thead>\n",
       "  <tbody>\n",
       "    <tr>\n",
       "      <th>count</th>\n",
       "      <td>3.195245e+06</td>\n",
       "      <td>3.195245e+06</td>\n",
       "    </tr>\n",
       "    <tr>\n",
       "      <th>mean</th>\n",
       "      <td>1.644060e+04</td>\n",
       "      <td>1.488769e+08</td>\n",
       "    </tr>\n",
       "    <tr>\n",
       "      <th>std</th>\n",
       "      <td>2.923701e+04</td>\n",
       "      <td>7.587697e+07</td>\n",
       "    </tr>\n",
       "    <tr>\n",
       "      <th>min</th>\n",
       "      <td>8.300000e+01</td>\n",
       "      <td>6.000000e+00</td>\n",
       "    </tr>\n",
       "    <tr>\n",
       "      <th>25%</th>\n",
       "      <td>9.696000e+03</td>\n",
       "      <td>8.817426e+07</td>\n",
       "    </tr>\n",
       "    <tr>\n",
       "      <th>50%</th>\n",
       "      <td>1.504300e+04</td>\n",
       "      <td>1.844423e+08</td>\n",
       "    </tr>\n",
       "    <tr>\n",
       "      <th>75%</th>\n",
       "      <td>1.755800e+04</td>\n",
       "      <td>2.107380e+08</td>\n",
       "    </tr>\n",
       "    <tr>\n",
       "      <th>max</th>\n",
       "      <td>1.514434e+06</td>\n",
       "      <td>2.408521e+08</td>\n",
       "    </tr>\n",
       "  </tbody>\n",
       "</table>\n",
       "</div>"
      ],
      "text/plain": [
       "           topic_id     member_id\n",
       "count  3.195245e+06  3.195245e+06\n",
       "mean   1.644060e+04  1.488769e+08\n",
       "std    2.923701e+04  7.587697e+07\n",
       "min    8.300000e+01  6.000000e+00\n",
       "25%    9.696000e+03  8.817426e+07\n",
       "50%    1.504300e+04  1.844423e+08\n",
       "75%    1.755800e+04  2.107380e+08\n",
       "max    1.514434e+06  2.408521e+08"
      ]
     },
     "execution_count": 210,
     "metadata": {},
     "output_type": "execute_result"
    }
   ],
   "source": [
    "members_topics.info()\n",
    "members_topics.describe()"
   ]
  },
  {
   "cell_type": "code",
   "execution_count": 211,
   "metadata": {},
   "outputs": [
    {
     "data": {
      "text/html": [
       "<div>\n",
       "<style scoped>\n",
       "    .dataframe tbody tr th:only-of-type {\n",
       "        vertical-align: middle;\n",
       "    }\n",
       "\n",
       "    .dataframe tbody tr th {\n",
       "        vertical-align: top;\n",
       "    }\n",
       "\n",
       "    .dataframe thead th {\n",
       "        text-align: right;\n",
       "    }\n",
       "</style>\n",
       "<table border=\"1\" class=\"dataframe\">\n",
       "  <thead>\n",
       "    <tr style=\"text-align: right;\">\n",
       "      <th></th>\n",
       "      <th>topic_id</th>\n",
       "      <th>description</th>\n",
       "      <th>link</th>\n",
       "      <th>members</th>\n",
       "      <th>topic_name</th>\n",
       "      <th>urlkey</th>\n",
       "      <th>main_topic_id</th>\n",
       "    </tr>\n",
       "  </thead>\n",
       "  <tbody>\n",
       "    <tr>\n",
       "      <th>0</th>\n",
       "      <td>83</td>\n",
       "      <td>Meet with others in your local area who are Sp...</td>\n",
       "      <td>http://sportsfans.meetup.com/</td>\n",
       "      <td>471594</td>\n",
       "      <td>Sports Fan</td>\n",
       "      <td>sportsfans</td>\n",
       "      <td>10451</td>\n",
       "    </tr>\n",
       "    <tr>\n",
       "      <th>1</th>\n",
       "      <td>130</td>\n",
       "      <td>Meet with Latin Music fans in your town.</td>\n",
       "      <td>http://latinmusic.meetup.com/</td>\n",
       "      <td>759757</td>\n",
       "      <td>Latin Music</td>\n",
       "      <td>latinmusic</td>\n",
       "      <td>15018</td>\n",
       "    </tr>\n",
       "    <tr>\n",
       "      <th>2</th>\n",
       "      <td>182</td>\n",
       "      <td>Want to practice your English? Meetup with oth...</td>\n",
       "      <td>http://esl.meetup.com/</td>\n",
       "      <td>3176752</td>\n",
       "      <td>English as a Second Language</td>\n",
       "      <td>esl</td>\n",
       "      <td>10454</td>\n",
       "    </tr>\n",
       "  </tbody>\n",
       "</table>\n",
       "</div>"
      ],
      "text/plain": [
       "   topic_id                                        description  \\\n",
       "0        83  Meet with others in your local area who are Sp...   \n",
       "1       130           Meet with Latin Music fans in your town.   \n",
       "2       182  Want to practice your English? Meetup with oth...   \n",
       "\n",
       "                            link  members                    topic_name  \\\n",
       "0  http://sportsfans.meetup.com/   471594                    Sports Fan   \n",
       "1  http://latinmusic.meetup.com/   759757                   Latin Music   \n",
       "2         http://esl.meetup.com/  3176752  English as a Second Language   \n",
       "\n",
       "       urlkey  main_topic_id  \n",
       "0  sportsfans          10451  \n",
       "1  latinmusic          15018  \n",
       "2         esl          10454  "
      ]
     },
     "execution_count": 211,
     "metadata": {},
     "output_type": "execute_result"
    }
   ],
   "source": [
    "topics.head(3)"
   ]
  },
  {
   "cell_type": "code",
   "execution_count": 212,
   "metadata": {},
   "outputs": [
    {
     "name": "stdout",
     "output_type": "stream",
     "text": [
      "<class 'pandas.core.frame.DataFrame'>\n",
      "RangeIndex: 2509 entries, 0 to 2508\n",
      "Data columns (total 7 columns):\n",
      " #   Column         Non-Null Count  Dtype \n",
      "---  ------         --------------  ----- \n",
      " 0   topic_id       2509 non-null   int64 \n",
      " 1   description    2509 non-null   object\n",
      " 2   link           2509 non-null   object\n",
      " 3   members        2509 non-null   int64 \n",
      " 4   topic_name     2509 non-null   object\n",
      " 5   urlkey         2509 non-null   object\n",
      " 6   main_topic_id  2509 non-null   int64 \n",
      "dtypes: int64(3), object(4)\n",
      "memory usage: 137.3+ KB\n"
     ]
    },
    {
     "data": {
      "text/html": [
       "<div>\n",
       "<style scoped>\n",
       "    .dataframe tbody tr th:only-of-type {\n",
       "        vertical-align: middle;\n",
       "    }\n",
       "\n",
       "    .dataframe tbody tr th {\n",
       "        vertical-align: top;\n",
       "    }\n",
       "\n",
       "    .dataframe thead th {\n",
       "        text-align: right;\n",
       "    }\n",
       "</style>\n",
       "<table border=\"1\" class=\"dataframe\">\n",
       "  <thead>\n",
       "    <tr style=\"text-align: right;\">\n",
       "      <th></th>\n",
       "      <th>topic_id</th>\n",
       "      <th>members</th>\n",
       "      <th>main_topic_id</th>\n",
       "    </tr>\n",
       "  </thead>\n",
       "  <tbody>\n",
       "    <tr>\n",
       "      <th>count</th>\n",
       "      <td>2.509000e+03</td>\n",
       "      <td>2.509000e+03</td>\n",
       "      <td>2509.000000</td>\n",
       "    </tr>\n",
       "    <tr>\n",
       "      <th>mean</th>\n",
       "      <td>1.185493e+05</td>\n",
       "      <td>1.255687e+05</td>\n",
       "      <td>11254.623356</td>\n",
       "    </tr>\n",
       "    <tr>\n",
       "      <th>std</th>\n",
       "      <td>2.650783e+05</td>\n",
       "      <td>9.456880e+05</td>\n",
       "      <td>10351.523132</td>\n",
       "    </tr>\n",
       "    <tr>\n",
       "      <th>min</th>\n",
       "      <td>8.300000e+01</td>\n",
       "      <td>0.000000e+00</td>\n",
       "      <td>223.000000</td>\n",
       "    </tr>\n",
       "    <tr>\n",
       "      <th>25%</th>\n",
       "      <td>2.234100e+04</td>\n",
       "      <td>0.000000e+00</td>\n",
       "      <td>1924.000000</td>\n",
       "    </tr>\n",
       "    <tr>\n",
       "      <th>50%</th>\n",
       "      <td>3.905700e+04</td>\n",
       "      <td>6.690000e+02</td>\n",
       "      <td>10333.000000</td>\n",
       "    </tr>\n",
       "    <tr>\n",
       "      <th>75%</th>\n",
       "      <td>8.458100e+04</td>\n",
       "      <td>9.307000e+03</td>\n",
       "      <td>15236.000000</td>\n",
       "    </tr>\n",
       "    <tr>\n",
       "      <th>max</th>\n",
       "      <td>1.515654e+06</td>\n",
       "      <td>2.531892e+07</td>\n",
       "      <td>53052.000000</td>\n",
       "    </tr>\n",
       "  </tbody>\n",
       "</table>\n",
       "</div>"
      ],
      "text/plain": [
       "           topic_id       members  main_topic_id\n",
       "count  2.509000e+03  2.509000e+03    2509.000000\n",
       "mean   1.185493e+05  1.255687e+05   11254.623356\n",
       "std    2.650783e+05  9.456880e+05   10351.523132\n",
       "min    8.300000e+01  0.000000e+00     223.000000\n",
       "25%    2.234100e+04  0.000000e+00    1924.000000\n",
       "50%    3.905700e+04  6.690000e+02   10333.000000\n",
       "75%    8.458100e+04  9.307000e+03   15236.000000\n",
       "max    1.515654e+06  2.531892e+07   53052.000000"
      ]
     },
     "execution_count": 212,
     "metadata": {},
     "output_type": "execute_result"
    }
   ],
   "source": [
    "topics.info()\n",
    "topics.describe()"
   ]
  },
  {
   "cell_type": "code",
   "execution_count": 213,
   "metadata": {},
   "outputs": [
    {
     "data": {
      "text/html": [
       "<div>\n",
       "<style scoped>\n",
       "    .dataframe tbody tr th:only-of-type {\n",
       "        vertical-align: middle;\n",
       "    }\n",
       "\n",
       "    .dataframe tbody tr th {\n",
       "        vertical-align: top;\n",
       "    }\n",
       "\n",
       "    .dataframe thead th {\n",
       "        text-align: right;\n",
       "    }\n",
       "</style>\n",
       "<table border=\"1\" class=\"dataframe\">\n",
       "  <thead>\n",
       "    <tr style=\"text-align: right;\">\n",
       "      <th></th>\n",
       "      <th>venue_id</th>\n",
       "      <th>address_1</th>\n",
       "      <th>city</th>\n",
       "      <th>country</th>\n",
       "      <th>distance</th>\n",
       "      <th>lat</th>\n",
       "      <th>localized_country_name</th>\n",
       "      <th>lon</th>\n",
       "      <th>venue_name</th>\n",
       "      <th>rating</th>\n",
       "      <th>rating_count</th>\n",
       "      <th>state</th>\n",
       "      <th>zip</th>\n",
       "      <th>normalised_rating</th>\n",
       "    </tr>\n",
       "  </thead>\n",
       "  <tbody>\n",
       "    <tr>\n",
       "      <th>0</th>\n",
       "      <td>5286</td>\n",
       "      <td>424 Park Ave S</td>\n",
       "      <td>New York</td>\n",
       "      <td>us</td>\n",
       "      <td>0.0</td>\n",
       "      <td>40.744259</td>\n",
       "      <td>USA</td>\n",
       "      <td>-73.983749</td>\n",
       "      <td>Starbucks Coffee</td>\n",
       "      <td>4.00</td>\n",
       "      <td>51.0</td>\n",
       "      <td>NY</td>\n",
       "      <td>10016</td>\n",
       "      <td>3.92</td>\n",
       "    </tr>\n",
       "    <tr>\n",
       "      <th>1</th>\n",
       "      <td>5293</td>\n",
       "      <td>Union Square</td>\n",
       "      <td>New York</td>\n",
       "      <td>us</td>\n",
       "      <td>0.0</td>\n",
       "      <td>40.731390</td>\n",
       "      <td>USA</td>\n",
       "      <td>-73.988400</td>\n",
       "      <td>Virgin Megastore (cafe)</td>\n",
       "      <td>2.83</td>\n",
       "      <td>109.0</td>\n",
       "      <td>NY</td>\n",
       "      <td>10003</td>\n",
       "      <td>2.80</td>\n",
       "    </tr>\n",
       "    <tr>\n",
       "      <th>2</th>\n",
       "      <td>8356</td>\n",
       "      <td>141 West 72nd St.</td>\n",
       "      <td>New York</td>\n",
       "      <td>us</td>\n",
       "      <td>0.0</td>\n",
       "      <td>40.778275</td>\n",
       "      <td>USA</td>\n",
       "      <td>-73.980095</td>\n",
       "      <td>Krispy Kreme Doughnuts</td>\n",
       "      <td>2.11</td>\n",
       "      <td>18.0</td>\n",
       "      <td>NY</td>\n",
       "      <td>10028</td>\n",
       "      <td>2.00</td>\n",
       "    </tr>\n",
       "  </tbody>\n",
       "</table>\n",
       "</div>"
      ],
      "text/plain": [
       "   venue_id          address_1      city country  distance        lat  \\\n",
       "0      5286     424 Park Ave S  New York      us       0.0  40.744259   \n",
       "1      5293       Union Square  New York      us       0.0  40.731390   \n",
       "2      8356  141 West 72nd St.  New York      us       0.0  40.778275   \n",
       "\n",
       "  localized_country_name        lon               venue_name  rating  \\\n",
       "0                    USA -73.983749         Starbucks Coffee    4.00   \n",
       "1                    USA -73.988400  Virgin Megastore (cafe)    2.83   \n",
       "2                    USA -73.980095   Krispy Kreme Doughnuts    2.11   \n",
       "\n",
       "   rating_count state    zip  normalised_rating  \n",
       "0          51.0    NY  10016               3.92  \n",
       "1         109.0    NY  10003               2.80  \n",
       "2          18.0    NY  10028               2.00  "
      ]
     },
     "execution_count": 213,
     "metadata": {},
     "output_type": "execute_result"
    }
   ],
   "source": [
    "venues.head(3)"
   ]
  },
  {
   "cell_type": "code",
   "execution_count": 214,
   "metadata": {},
   "outputs": [
    {
     "name": "stdout",
     "output_type": "stream",
     "text": [
      "<class 'pandas.core.frame.DataFrame'>\n",
      "RangeIndex: 107093 entries, 0 to 107092\n",
      "Data columns (total 14 columns):\n",
      " #   Column                  Non-Null Count   Dtype  \n",
      "---  ------                  --------------   -----  \n",
      " 0   venue_id                107093 non-null  int64  \n",
      " 1   address_1               107059 non-null  object \n",
      " 2   city                    107093 non-null  object \n",
      " 3   country                 107093 non-null  object \n",
      " 4   distance                107093 non-null  float64\n",
      " 5   lat                     107093 non-null  float64\n",
      " 6   localized_country_name  107093 non-null  object \n",
      " 7   lon                     107093 non-null  float64\n",
      " 8   venue_name              107072 non-null  object \n",
      " 9   rating                  107093 non-null  float64\n",
      " 10  rating_count            107093 non-null  float64\n",
      " 11  state                   107093 non-null  object \n",
      " 12  zip                     107093 non-null  int64  \n",
      " 13  normalised_rating       107093 non-null  float64\n",
      "dtypes: float64(6), int64(2), object(6)\n",
      "memory usage: 11.4+ MB\n"
     ]
    },
    {
     "data": {
      "text/html": [
       "<div>\n",
       "<style scoped>\n",
       "    .dataframe tbody tr th:only-of-type {\n",
       "        vertical-align: middle;\n",
       "    }\n",
       "\n",
       "    .dataframe tbody tr th {\n",
       "        vertical-align: top;\n",
       "    }\n",
       "\n",
       "    .dataframe thead th {\n",
       "        text-align: right;\n",
       "    }\n",
       "</style>\n",
       "<table border=\"1\" class=\"dataframe\">\n",
       "  <thead>\n",
       "    <tr style=\"text-align: right;\">\n",
       "      <th></th>\n",
       "      <th>venue_id</th>\n",
       "      <th>distance</th>\n",
       "      <th>lat</th>\n",
       "      <th>lon</th>\n",
       "      <th>rating</th>\n",
       "      <th>rating_count</th>\n",
       "      <th>zip</th>\n",
       "      <th>normalised_rating</th>\n",
       "    </tr>\n",
       "  </thead>\n",
       "  <tbody>\n",
       "    <tr>\n",
       "      <th>count</th>\n",
       "      <td>1.070930e+05</td>\n",
       "      <td>107093.0</td>\n",
       "      <td>107093.000000</td>\n",
       "      <td>107093.000000</td>\n",
       "      <td>107093.000000</td>\n",
       "      <td>107093.000000</td>\n",
       "      <td>1.070930e+05</td>\n",
       "      <td>107093.000000</td>\n",
       "    </tr>\n",
       "    <tr>\n",
       "      <th>mean</th>\n",
       "      <td>1.544266e+07</td>\n",
       "      <td>0.0</td>\n",
       "      <td>38.477205</td>\n",
       "      <td>-84.338435</td>\n",
       "      <td>2.448126</td>\n",
       "      <td>5.177537</td>\n",
       "      <td>3.508585e+05</td>\n",
       "      <td>1.799409</td>\n",
       "    </tr>\n",
       "    <tr>\n",
       "      <th>std</th>\n",
       "      <td>9.790936e+06</td>\n",
       "      <td>0.0</td>\n",
       "      <td>8.624404</td>\n",
       "      <td>26.668503</td>\n",
       "      <td>2.287828</td>\n",
       "      <td>20.341344</td>\n",
       "      <td>1.454580e+07</td>\n",
       "      <td>1.762083</td>\n",
       "    </tr>\n",
       "    <tr>\n",
       "      <th>min</th>\n",
       "      <td>5.286000e+03</td>\n",
       "      <td>0.0</td>\n",
       "      <td>-45.100449</td>\n",
       "      <td>-123.082466</td>\n",
       "      <td>0.000000</td>\n",
       "      <td>0.000000</td>\n",
       "      <td>-1.000000e+00</td>\n",
       "      <td>0.000000</td>\n",
       "    </tr>\n",
       "    <tr>\n",
       "      <th>25%</th>\n",
       "      <td>4.904182e+06</td>\n",
       "      <td>0.0</td>\n",
       "      <td>37.799274</td>\n",
       "      <td>-87.690269</td>\n",
       "      <td>0.000000</td>\n",
       "      <td>0.000000</td>\n",
       "      <td>-1.000000e+00</td>\n",
       "      <td>0.000000</td>\n",
       "    </tr>\n",
       "    <tr>\n",
       "      <th>50%</th>\n",
       "      <td>1.934192e+07</td>\n",
       "      <td>0.0</td>\n",
       "      <td>40.745307</td>\n",
       "      <td>-74.005974</td>\n",
       "      <td>3.750000</td>\n",
       "      <td>1.000000</td>\n",
       "      <td>1.000000e+00</td>\n",
       "      <td>2.000000</td>\n",
       "    </tr>\n",
       "    <tr>\n",
       "      <th>75%</th>\n",
       "      <td>2.442841e+07</td>\n",
       "      <td>0.0</td>\n",
       "      <td>40.824215</td>\n",
       "      <td>-73.984200</td>\n",
       "      <td>4.710000</td>\n",
       "      <td>4.000000</td>\n",
       "      <td>1.003600e+04</td>\n",
       "      <td>3.500000</td>\n",
       "    </tr>\n",
       "    <tr>\n",
       "      <th>max</th>\n",
       "      <td>2.559499e+07</td>\n",
       "      <td>0.0</td>\n",
       "      <td>64.259950</td>\n",
       "      <td>170.969421</td>\n",
       "      <td>5.000000</td>\n",
       "      <td>999.990000</td>\n",
       "      <td>9.413310e+08</td>\n",
       "      <td>4.910000</td>\n",
       "    </tr>\n",
       "  </tbody>\n",
       "</table>\n",
       "</div>"
      ],
      "text/plain": [
       "           venue_id  distance            lat            lon         rating  \\\n",
       "count  1.070930e+05  107093.0  107093.000000  107093.000000  107093.000000   \n",
       "mean   1.544266e+07       0.0      38.477205     -84.338435       2.448126   \n",
       "std    9.790936e+06       0.0       8.624404      26.668503       2.287828   \n",
       "min    5.286000e+03       0.0     -45.100449    -123.082466       0.000000   \n",
       "25%    4.904182e+06       0.0      37.799274     -87.690269       0.000000   \n",
       "50%    1.934192e+07       0.0      40.745307     -74.005974       3.750000   \n",
       "75%    2.442841e+07       0.0      40.824215     -73.984200       4.710000   \n",
       "max    2.559499e+07       0.0      64.259950     170.969421       5.000000   \n",
       "\n",
       "        rating_count           zip  normalised_rating  \n",
       "count  107093.000000  1.070930e+05      107093.000000  \n",
       "mean        5.177537  3.508585e+05           1.799409  \n",
       "std        20.341344  1.454580e+07           1.762083  \n",
       "min         0.000000 -1.000000e+00           0.000000  \n",
       "25%         0.000000 -1.000000e+00           0.000000  \n",
       "50%         1.000000  1.000000e+00           2.000000  \n",
       "75%         4.000000  1.003600e+04           3.500000  \n",
       "max       999.990000  9.413310e+08           4.910000  "
      ]
     },
     "execution_count": 214,
     "metadata": {},
     "output_type": "execute_result"
    }
   ],
   "source": [
    "venues.info()\n",
    "venues.describe()"
   ]
  },
  {
   "cell_type": "code",
   "execution_count": 215,
   "metadata": {},
   "outputs": [],
   "source": [
    "df = pd.merge(left=groups, right=categories, left_on='category_id', right_on='category_id')"
   ]
  },
  {
   "cell_type": "code",
   "execution_count": 216,
   "metadata": {},
   "outputs": [
    {
     "data": {
      "text/plain": [
       "<matplotlib.axes._subplots.AxesSubplot at 0x230839989c8>"
      ]
     },
     "execution_count": 216,
     "metadata": {},
     "output_type": "execute_result"
    },
    {
     "data": {
      "image/png": "[encoded data removed]",
      "text/plain": [
       "<Figure size 432x288 with 1 Axes>"
      ]
     },
     "metadata": {
      "needs_background": "light"
     },
     "output_type": "display_data"
    }
   ],
   "source": [
    "df.groupby('category_name').group_id.count().plot(kind='bar')"
   ]
  },
  {
   "cell_type": "markdown",
   "metadata": {},
   "source": [
    "### Признаки, на которые возможна ориентировка"
   ]
  },
  {
   "cell_type": "markdown",
   "metadata": {},
   "source": [
    "events:\n",
    "1. created\n",
    "2. duration\n",
    "3. updated\n",
    "4. yes_rsvp_count (положительный ответ на приглашение)\n",
    "5. fee.required (требуется ли плата за вход видимо)\n",
    "6. event_name (создать признаки по наличию определенных слов)\n",
    "7. event_description (создать признак по количеству слов в описании)\n",
    "\n",
    "groups:\n",
    "1. created (можно попробовать посчитать время от создания группы и начала ивента)\n",
    "2. members (для счёта количества участников)\n",
    "3. visibility (возможно открытость группы влияет на посещение)\n",
    "4. who (возможно сама группа влияет на посещаемость)\n",
    "\n",
    "venues:\n",
    "1. normalised_rating (отнормированный рейтинг, возможно тоже буде влиять на посещение)\n",
    "\n",
    "categories:\n",
    "1. shortname\n",
    "\n",
    "topics:\n",
    "1. main_topic_id (взять основной топик)\n",
    "2. topic_id\n",
    "3. topic_name\n",
    "\n"
   ]
  },
  {
   "cell_type": "markdown",
   "metadata": {},
   "source": [
    "### Расчётные характеристики"
   ]
  },
  {
   "cell_type": "markdown",
   "metadata": {},
   "source": [
    "1. Дни от обновления события до его начала\n",
    "2. Постоянное ли событие\n",
    "3. Наличие конкретных слов в названии события\n",
    "4. Количество слов в описании\n",
    "5. Подсчёт \"старости\" группы\n",
    "6. День недели + Время суток\n",
    "7. Расстояние от центра города до места проведения события\n",
    "8. Имеется ли у события описание"
   ]
  },
  {
   "cell_type": "code",
   "execution_count": 208,
   "metadata": {},
   "outputs": [],
   "source": [
    "events_features = ['event_id', 'group_id', 'venue_id', 'created', 'duration', 'event_time',\n",
    "                   'updated', 'yes_rsvp_count', 'fee.required', \n",
    "                   'event_name', 'description']\n",
    "groups_features = ['group_id', 'category_id', 'created', 'members', 'visibility', 'who', 'city_id']\n",
    "venues_features = ['venue_id', 'normalised_rating', 'lat', 'lon']\n",
    "categories_features = ['category_id', 'shortname']\n",
    "groups_topics_features = ['group_id', 'topic_id', 'topic_key']\n",
    "topics_features = ['main_topic_id']\n",
    "cities_features = ['city_id', 'latitude', 'longitude']"
   ]
  },
  {
   "cell_type": "code",
   "execution_count": 209,
   "metadata": {},
   "outputs": [],
   "source": [
    "df = pd.merge(left=events[events_features], right=venues[venues_features], left_on='venue_id', right_on='venue_id')"
   ]
  },
  {
   "cell_type": "code",
   "execution_count": 210,
   "metadata": {},
   "outputs": [],
   "source": [
    "df = pd.merge(left=df, right=groups[groups_features], left_on='group_id', right_on='group_id', suffixes=('_event', '_group'))"
   ]
  },
  {
   "cell_type": "code",
   "execution_count": 211,
   "metadata": {},
   "outputs": [],
   "source": [
    "df = pd.merge(left=df, right=categories[categories_features], left_on='category_id', right_on='category_id')"
   ]
  },
  {
   "cell_type": "code",
   "execution_count": 212,
   "metadata": {},
   "outputs": [],
   "source": [
    "df = pd.merge(left=df, right=cities[cities_features], left_on='city_id', right_on='city_id')"
   ]
  },
  {
   "cell_type": "code",
   "execution_count": 213,
   "metadata": {},
   "outputs": [],
   "source": [
    "df['duration'] = df['duration'] / 3600"
   ]
  },
  {
   "cell_type": "code",
   "execution_count": 214,
   "metadata": {},
   "outputs": [],
   "source": [
    "df['recency'] = (df['event_time'] - df['updated']).dt.days"
   ]
  },
  {
   "cell_type": "code",
   "execution_count": 215,
   "metadata": {},
   "outputs": [],
   "source": [
    "df['isConstant'] = df['created_event'] == df['updated']"
   ]
  },
  {
   "cell_type": "code",
   "execution_count": 216,
   "metadata": {},
   "outputs": [],
   "source": [
    "df['free'] = df.event_name.str.lower().str.contains('free')"
   ]
  },
  {
   "cell_type": "code",
   "execution_count": 217,
   "metadata": {},
   "outputs": [],
   "source": [
    "df['after_party'] = df.event_name.str.lower().str.contains('after.party')"
   ]
  },
  {
   "cell_type": "code",
   "execution_count": 218,
   "metadata": {},
   "outputs": [],
   "source": [
    "df['word_count'] = df['description'].str.split().str.len()"
   ]
  },
  {
   "cell_type": "code",
   "execution_count": 219,
   "metadata": {},
   "outputs": [],
   "source": [
    "def get_times_of_day(x):\n",
    "    if (x.hour < 12):\n",
    "        return 1\n",
    "    elif (x.hour < 18):\n",
    "        return 2\n",
    "    else:\n",
    "        return 3"
   ]
  },
  {
   "cell_type": "code",
   "execution_count": 220,
   "metadata": {},
   "outputs": [],
   "source": [
    "df['day_and_time'] = (df['event_time'].dt.dayofweek + 1) * 10 + df['event_time'].apply(get_times_of_day)"
   ]
  },
  {
   "cell_type": "code",
   "execution_count": 221,
   "metadata": {},
   "outputs": [],
   "source": [
    "df['distance'] = np.sqrt(np.square(df['lat'] - df['latitude']) + np.square(df['lon'] - df['longitude']))"
   ]
  },
  {
   "cell_type": "code",
   "execution_count": 222,
   "metadata": {},
   "outputs": [],
   "source": [
    "df['description_not_empty'] = df['description'].isna()"
   ]
  },
  {
   "cell_type": "code",
   "execution_count": 223,
   "metadata": {},
   "outputs": [],
   "source": [
    "df['create_update_diff'] = (df['updated'] - df['created_event']).dt.days"
   ]
  },
  {
   "cell_type": "code",
   "execution_count": 224,
   "metadata": {},
   "outputs": [],
   "source": [
    "df['created_days'] = (df['event_time'] - df['created_event']).dt.days"
   ]
  },
  {
   "cell_type": "code",
   "execution_count": 234,
   "metadata": {},
   "outputs": [
    {
     "name": "stdout",
     "output_type": "stream",
     "text": [
      "<class 'pandas.core.frame.DataFrame'>\n",
      "Int64Index: 5807 entries, 0 to 5806\n",
      "Data columns (total 33 columns):\n",
      " #   Column                 Non-Null Count  Dtype         \n",
      "---  ------                 --------------  -----         \n",
      " 0   event_id               5807 non-null   object        \n",
      " 1   group_id               5807 non-null   int64         \n",
      " 2   venue_id               5807 non-null   int64         \n",
      " 3   created_event          5807 non-null   datetime64[ns]\n",
      " 4   duration               5807 non-null   float64       \n",
      " 5   event_time             5807 non-null   datetime64[ns]\n",
      " 6   updated                5807 non-null   datetime64[ns]\n",
      " 7   yes_rsvp_count         5807 non-null   int64         \n",
      " 8   fee.required           5807 non-null   int64         \n",
      " 9   event_name             5757 non-null   object        \n",
      " 10  description            5795 non-null   object        \n",
      " 11  normalised_rating      5807 non-null   float64       \n",
      " 12  lat                    5807 non-null   float64       \n",
      " 13  lon                    5807 non-null   float64       \n",
      " 14  category_id            5807 non-null   int64         \n",
      " 15  created_group          5807 non-null   datetime64[ns]\n",
      " 16  members                5807 non-null   int64         \n",
      " 17  visibility             5807 non-null   object        \n",
      " 18  who                    5807 non-null   object        \n",
      " 19  city_id                5807 non-null   int64         \n",
      " 20  shortname              5807 non-null   object        \n",
      " 21  latitude               5807 non-null   float64       \n",
      " 22  longitude              5807 non-null   float64       \n",
      " 23  recency                5807 non-null   int64         \n",
      " 24  isConstant             5807 non-null   bool          \n",
      " 25  free                   5757 non-null   object        \n",
      " 26  after_party            5757 non-null   object        \n",
      " 27  word_count             5795 non-null   float64       \n",
      " 28  day_and_time           5807 non-null   int64         \n",
      " 29  distance               5807 non-null   float64       \n",
      " 30  description_not_empty  5807 non-null   bool          \n",
      " 31  create_update_diff     5807 non-null   int64         \n",
      " 32  created_days           5807 non-null   int64         \n",
      "dtypes: bool(2), datetime64[ns](4), float64(8), int64(11), object(8)\n",
      "memory usage: 1.4+ MB\n"
     ]
    }
   ],
   "source": [
    "df.info()"
   ]
  },
  {
   "cell_type": "code",
   "execution_count": 225,
   "metadata": {},
   "outputs": [],
   "source": [
    "df = df.drop(columns=['group_id', 'venue_id', 'event_time', 'description', 'lat', 'lon', 'city_id', 'latitude', 'longitude'])"
   ]
  },
  {
   "cell_type": "code",
   "execution_count": 226,
   "metadata": {},
   "outputs": [],
   "source": [
    "corr_matrix = df.corr()"
   ]
  },
  {
   "cell_type": "code",
   "execution_count": 227,
   "metadata": {},
   "outputs": [
    {
     "data": {
      "text/plain": [
       "<matplotlib.axes._subplots.AxesSubplot at 0x1f11042b688>"
      ]
     },
     "execution_count": 227,
     "metadata": {},
     "output_type": "execute_result"
    },
    {
     "data": {
      "image/png": "[encoded data removed]",
      "text/plain": [
       "<Figure size 720x720 with 2 Axes>"
      ]
     },
     "metadata": {
      "needs_background": "light"
     },
     "output_type": "display_data"
    }
   ],
   "source": [
    "import seaborn as sns\n",
    "\n",
    "\n",
    "fig, ax = plt.subplots(figsize=(10,10))\n",
    "sns.heatmap(corr_matrix, annot=True, cmap=\"RdYlGn\", ax=ax, fmt=\".2f\")"
   ]
  },
  {
   "cell_type": "code",
   "execution_count": 228,
   "metadata": {},
   "outputs": [],
   "source": [
    "id_columns = []\n",
    "\n",
    "for c in df.columns:\n",
    "    if 'id' in c:\n",
    "        df[c] = df[c].astype('object')\n",
    "        id_columns.append(c)"
   ]
  },
  {
   "cell_type": "code",
   "execution_count": 229,
   "metadata": {},
   "outputs": [],
   "source": [
    "for c in df.columns:\n",
    "    if df[c].nunique() == 2:\n",
    "        df[c] = df[c].astype('bool')"
   ]
  },
  {
   "cell_type": "code",
   "execution_count": 230,
   "metadata": {},
   "outputs": [],
   "source": [
    "df.word_count = df.word_count.fillna(0)"
   ]
  },
  {
   "cell_type": "code",
   "execution_count": 231,
   "metadata": {},
   "outputs": [],
   "source": [
    "def compute_losses(serie, wholesale=5, retail=8):\n",
    "    if serie < 0:\n",
    "        serie = np.absolute(serie) * wholesale\n",
    "    elif serie > 0:\n",
    "        serie = serie * (retail - wholesale)\n",
    "    return serie"
   ]
  },
  {
   "cell_type": "code",
   "execution_count": 232,
   "metadata": {},
   "outputs": [],
   "source": [
    "def compute_score(df, border = 0):\n",
    "#     score = df[df.losses <= border].losses.count() / df.losses.count()\n",
    "    score = np.sum(df.losses) / df.losses.count()\n",
    "    return score"
   ]
  },
  {
   "cell_type": "code",
   "execution_count": 233,
   "metadata": {},
   "outputs": [],
   "source": [
    "def get_calculated_score(y_test, y_predicted, border=0, wholesale=5, retail=8):\n",
    "    losses = y_test - y_predicted\n",
    "    res = pd.DataFrame({'real' : y_test, 'predicted' : y_predicted})\n",
    "    res['losses'] = res.real - res.predicted\n",
    "    res.losses = res.losses.apply(compute_losses, args=(wholesale, retail,))\n",
    "    return compute_score(res, border)"
   ]
  },
  {
   "cell_type": "code",
   "execution_count": 234,
   "metadata": {},
   "outputs": [],
   "source": [
    "from sklearn.base import clone\n",
    "\n",
    "def cross_val(temp, X, y, cv):\n",
    "    model = clone(temp)\n",
    "    scores = []\n",
    "    frac = 1 / cv\n",
    "    for i in range(cv):\n",
    "        X_train = X.sample(frac=frac).sample(frac=0.8)\n",
    "        X_test = X.sample(frac=frac).sample(frac=0.2)\n",
    "        y_train = y.loc[X_train.index]\n",
    "        y_test = y.loc[X_test.index]\n",
    "        model.fit(X_train, y_train.yes_rsvp_count)\n",
    "        predicted = model.predict(X_test)\n",
    "        scores.append(get_calculated_score(y_test.yes_rsvp_count, np.trunc(predicted.ravel())))\n",
    "    return scores"
   ]
  },
  {
   "cell_type": "code",
   "execution_count": 235,
   "metadata": {},
   "outputs": [],
   "source": [
    "df = df.loc[df.yes_rsvp_count >= 5]"
   ]
  },
  {
   "cell_type": "code",
   "execution_count": 236,
   "metadata": {},
   "outputs": [],
   "source": [
    "from sklearn.model_selection import train_test_split\n",
    "\n",
    "X = list(set(df.select_dtypes(exclude=['object', 'datetime']).columns) - set(['yes_rsvp_count']))\n",
    "y = ['yes_rsvp_count']\n",
    "X_train, X_test, y_train, y_test = train_test_split(df[X], df[y], test_size=0.2, random_state=42)"
   ]
  },
  {
   "cell_type": "code",
   "execution_count": 237,
   "metadata": {},
   "outputs": [],
   "source": [
    "score_dict = {}"
   ]
  },
  {
   "cell_type": "code",
   "execution_count": 238,
   "metadata": {},
   "outputs": [],
   "source": [
    "scorer = make_scorer(get_calculated_score)"
   ]
  },
  {
   "cell_type": "markdown",
   "metadata": {},
   "source": [
    "### Линейная регрессия"
   ]
  },
  {
   "cell_type": "code",
   "execution_count": 239,
   "metadata": {},
   "outputs": [
    {
     "name": "stdout",
     "output_type": "stream",
     "text": [
      "50.270833333333336\n"
     ]
    }
   ],
   "source": [
    "from sklearn.linear_model import LinearRegression\n",
    "\n",
    "reg = LinearRegression()\n",
    "reg.fit(X_train, y_train)\n",
    "predicted = reg.predict(X_test)\n",
    "score_dict['reg'] = {}\n",
    "score_dict['reg']['score'] = get_calculated_score(y_test.yes_rsvp_count, np.trunc(predicted.ravel()))\n",
    "score_dict['reg']['model'] = reg\n",
    "print(score_dict['reg']['score'])"
   ]
  },
  {
   "cell_type": "markdown",
   "metadata": {},
   "source": [
    "### Градиентный бустинг"
   ]
  },
  {
   "cell_type": "code",
   "execution_count": 240,
   "metadata": {},
   "outputs": [
    {
     "name": "stdout",
     "output_type": "stream",
     "text": [
      "41.34375\n"
     ]
    }
   ],
   "source": [
    "from sklearn.ensemble import GradientBoostingRegressor\n",
    "\n",
    "gbm = GradientBoostingRegressor()\n",
    "gbm.fit(X_train, y_train.yes_rsvp_count)\n",
    "predicted = gbm.predict(X_test)\n",
    "score_dict['gbm'] = {}\n",
    "score_dict['gbm']['score'] = get_calculated_score(y_test.yes_rsvp_count, np.trunc(predicted.ravel()))\n",
    "score_dict['gbm']['model'] = gbm\n",
    "print(score_dict['gbm']['score'])"
   ]
  },
  {
   "cell_type": "code",
   "execution_count": 241,
   "metadata": {},
   "outputs": [
    {
     "data": {
      "image/png": "[encoded data removed]",
      "text/plain": [
       "<Figure size 432x288 with 1 Axes>"
      ]
     },
     "metadata": {
      "needs_background": "light"
     },
     "output_type": "display_data"
    },
    {
     "data": {
      "image/png": "[encoded data removed]",
      "text/plain": [
       "<Figure size 432x288 with 1 Axes>"
      ]
     },
     "metadata": {
      "needs_background": "light"
     },
     "output_type": "display_data"
    },
    {
     "data": {
      "image/png": "[encoded data removed]",
      "text/plain": [
       "<Figure size 432x288 with 1 Axes>"
      ]
     },
     "metadata": {
      "needs_background": "light"
     },
     "output_type": "display_data"
    },
    {
     "data": {
      "image/png": "[encoded data removed]",
      "text/plain": [
       "<Figure size 432x288 with 1 Axes>"
      ]
     },
     "metadata": {
      "needs_background": "light"
     },
     "output_type": "display_data"
    }
   ],
   "source": [
    "params = {'n_estimators': [10, 20, 100, 500, 1000],\n",
    "         'max_depth': [1, 4, 10, 20, 50],\n",
    "         'min_samples_split' : [2, 5, 10, 20, 50, 100, 1000],\n",
    "         'learning_rate' : [0.01, 0.05, 0.1, 0.5, 1]}\n",
    "\n",
    "best_params = {}\n",
    "for p in params:\n",
    "    fig, ax = plt.subplots(1)\n",
    "    scores = []\n",
    "    vals = []\n",
    "    min_score = 0\n",
    "    for v in params[p]:\n",
    "        param = {p : v}\n",
    "        gbm = GradientBoostingRegressor(**param)\n",
    "        gbm.fit(X_train, y_train.yes_rsvp_count)\n",
    "        predicted = gbm.predict(X_test)\n",
    "        vals.append(v)\n",
    "        score = np.mean(cross_val_score(gbm, df[X], df.yes_rsvp_count, scoring=scorer, cv=5))\n",
    "        if min_score > score:\n",
    "            min_score = score\n",
    "            best_params[p] = v\n",
    "        scores.append(score)\n",
    "    temp = pd.DataFrame({'scores':scores, p:vals})\n",
    "    sns.lineplot(x=p, y=\"scores\", data=temp, ax=ax)"
   ]
  },
  {
   "cell_type": "code",
   "execution_count": 242,
   "metadata": {},
   "outputs": [
    {
     "data": {
      "text/plain": [
       "{}"
      ]
     },
     "execution_count": 242,
     "metadata": {},
     "output_type": "execute_result"
    }
   ],
   "source": [
    "best_params"
   ]
  },
  {
   "cell_type": "code",
   "execution_count": 243,
   "metadata": {},
   "outputs": [
    {
     "name": "stdout",
     "output_type": "stream",
     "text": [
      "41.104166666666664\n"
     ]
    }
   ],
   "source": [
    "gbm = GradientBoostingRegressor(**best_params)\n",
    "gbm.fit(X_train, y_train.yes_rsvp_count)\n",
    "predicted = gbm.predict(X_test)\n",
    "score_dict['gbm'] = {}\n",
    "score_dict['gbm']['score'] = get_calculated_score(y_test.yes_rsvp_count, np.trunc(predicted.ravel()))\n",
    "score_dict['gbm']['model'] = gbm\n",
    "print(score_dict['gbm']['score'])"
   ]
  },
  {
   "cell_type": "markdown",
   "metadata": {},
   "source": [
    "### Дерево решений"
   ]
  },
  {
   "cell_type": "code",
   "execution_count": 244,
   "metadata": {},
   "outputs": [
    {
     "name": "stdout",
     "output_type": "stream",
     "text": [
      "42.46875\n"
     ]
    }
   ],
   "source": [
    "from sklearn import tree\n",
    "\n",
    "treeReg = tree.DecisionTreeRegressor()\n",
    "treeReg.fit(X_train, y_train)\n",
    "predicted = treeReg.predict(X_test)\n",
    "score_dict['tree'] = {}\n",
    "score_dict['tree']['score'] = get_calculated_score(y_test.yes_rsvp_count, np.trunc(predicted.ravel()))\n",
    "score_dict['tree']['model'] = treeReg\n",
    "print(score_dict['tree']['score'])"
   ]
  },
  {
   "cell_type": "code",
   "execution_count": 245,
   "metadata": {},
   "outputs": [
    {
     "data": {
      "image/png": "[encoded data removed]",
      "text/plain": [
       "<Figure size 432x288 with 1 Axes>"
      ]
     },
     "metadata": {
      "needs_background": "light"
     },
     "output_type": "display_data"
    },
    {
     "data": {
      "image/png": "[encoded data removed]",
      "text/plain": [
       "<Figure size 432x288 with 1 Axes>"
      ]
     },
     "metadata": {
      "needs_background": "light"
     },
     "output_type": "display_data"
    },
    {
     "data": {
      "image/png": "[encoded data removed]",
      "text/plain": [
       "<Figure size 432x288 with 1 Axes>"
      ]
     },
     "metadata": {
      "needs_background": "light"
     },
     "output_type": "display_data"
    }
   ],
   "source": [
    "params = {'max_depth': [1, 4, 10, 20, 50],\n",
    "         'min_samples_split' : [2, 5, 10, 20, 50, 100, 1000],\n",
    "         'min_samples_leaf' : [1, 5, 10, 20, 50]}\n",
    "\n",
    "best_params = {}\n",
    "for p in params:\n",
    "    fig, ax = plt.subplots(1)\n",
    "    scores = []\n",
    "    vals = []\n",
    "    min_score = 0\n",
    "    for v in params[p]:\n",
    "        param = {p : v}\n",
    "        treeReg = tree.DecisionTreeRegressor(**param)\n",
    "        treeReg.fit(X_train, y_train.yes_rsvp_count)\n",
    "        predicted = treeReg.predict(X_test)\n",
    "        vals.append(v)\n",
    "        score = np.mean(cross_val_score(treeReg, df[X], df.yes_rsvp_count, scoring=scorer, cv=5))\n",
    "        if min_score > score:\n",
    "            min_score = score\n",
    "            best_params[p] = v\n",
    "        scores.append(score)\n",
    "    temp = pd.DataFrame({'scores':scores, p:vals})\n",
    "    sns.lineplot(x=p, y=\"scores\", data=temp, ax=ax)"
   ]
  },
  {
   "cell_type": "code",
   "execution_count": 246,
   "metadata": {},
   "outputs": [
    {
     "data": {
      "text/plain": [
       "{}"
      ]
     },
     "execution_count": 246,
     "metadata": {},
     "output_type": "execute_result"
    }
   ],
   "source": [
    "best_params"
   ]
  },
  {
   "cell_type": "code",
   "execution_count": 247,
   "metadata": {},
   "outputs": [
    {
     "name": "stdout",
     "output_type": "stream",
     "text": [
      "43.583333333333336\n"
     ]
    }
   ],
   "source": [
    "treeReg = tree.DecisionTreeRegressor(**best_params)\n",
    "treeReg.fit(X_train, y_train)\n",
    "predicted = treeReg.predict(X_test)\n",
    "score_dict['tree'] = {}\n",
    "score_dict['tree']['score'] = get_calculated_score(y_test.yes_rsvp_count, np.trunc(predicted.ravel()))\n",
    "score_dict['tree']['model'] = treeReg\n",
    "print(score_dict['tree']['score'])"
   ]
  },
  {
   "cell_type": "markdown",
   "metadata": {},
   "source": [
    "### Случайный лес"
   ]
  },
  {
   "cell_type": "code",
   "execution_count": 248,
   "metadata": {},
   "outputs": [
    {
     "name": "stdout",
     "output_type": "stream",
     "text": [
      "42.458333333333336\n"
     ]
    }
   ],
   "source": [
    "from sklearn.ensemble import RandomForestRegressor\n",
    "\n",
    "forest = RandomForestRegressor()\n",
    "forest.fit(X_train, y_train.yes_rsvp_count)\n",
    "predicted = forest.predict(X_test)\n",
    "score_dict['forest'] = {}\n",
    "score_dict['forest']['score'] = get_calculated_score(y_test.yes_rsvp_count, np.trunc(predicted.ravel()))\n",
    "score_dict['forest']['model'] = forest\n",
    "print(score_dict['forest']['score'])"
   ]
  },
  {
   "cell_type": "code",
   "execution_count": 249,
   "metadata": {},
   "outputs": [
    {
     "data": {
      "image/png": "[encoded data removed]",
      "text/plain": [
       "<Figure size 432x288 with 1 Axes>"
      ]
     },
     "metadata": {
      "needs_background": "light"
     },
     "output_type": "display_data"
    },
    {
     "data": {
      "image/png": "[encoded data removed]",
      "text/plain": [
       "<Figure size 432x288 with 1 Axes>"
      ]
     },
     "metadata": {
      "needs_background": "light"
     },
     "output_type": "display_data"
    },
    {
     "data": {
      "image/png": "[encoded data removed]",
      "text/plain": [
       "<Figure size 432x288 with 1 Axes>"
      ]
     },
     "metadata": {
      "needs_background": "light"
     },
     "output_type": "display_data"
    },
    {
     "data": {
      "image/png": "[encoded data removed]",
      "text/plain": [
       "<Figure size 432x288 with 1 Axes>"
      ]
     },
     "metadata": {
      "needs_background": "light"
     },
     "output_type": "display_data"
    }
   ],
   "source": [
    "params = {'n_estimators': [10, 20, 100, 500, 1000],\n",
    "         'max_depth': [1, 4, 10, 20, 50],\n",
    "         'min_samples_split' : [2, 5, 10, 20, 50, 100, 1000],\n",
    "         'min_samples_leaf' : [1, 5, 10, 50, 100]}\n",
    "\n",
    "best_params = {}\n",
    "for p in params:\n",
    "    fig, ax = plt.subplots(1)\n",
    "    scores = []\n",
    "    vals = []\n",
    "    min_score = 0\n",
    "    for v in params[p]:\n",
    "        param = {p : v}\n",
    "        forest = RandomForestRegressor(**param)\n",
    "        forest.fit(X_train, y_train.yes_rsvp_count)\n",
    "        predicted = forest.predict(X_test)\n",
    "        vals.append(v)\n",
    "        score = np.mean(cross_val_score(forest, df[X], df.yes_rsvp_count, scoring=scorer, cv=5))\n",
    "        if min_score > score:\n",
    "            min_score = score\n",
    "            best_params[p] = v\n",
    "        scores.append(score)\n",
    "    temp = pd.DataFrame({'scores':scores, p:vals})\n",
    "    sns.lineplot(x=p, y=\"scores\", data=temp, ax=ax)"
   ]
  },
  {
   "cell_type": "code",
   "execution_count": 250,
   "metadata": {},
   "outputs": [
    {
     "data": {
      "text/plain": [
       "{}"
      ]
     },
     "execution_count": 250,
     "metadata": {},
     "output_type": "execute_result"
    }
   ],
   "source": [
    "best_params"
   ]
  },
  {
   "cell_type": "code",
   "execution_count": 251,
   "metadata": {},
   "outputs": [
    {
     "name": "stdout",
     "output_type": "stream",
     "text": [
      "41.614583333333336\n"
     ]
    }
   ],
   "source": [
    "forest = RandomForestRegressor(**best_params)\n",
    "forest.fit(X_train, y_train.yes_rsvp_count)\n",
    "predicted = forest.predict(X_test)\n",
    "score_dict['forest'] = {}\n",
    "score_dict['forest']['score'] = get_calculated_score(y_test.yes_rsvp_count, np.trunc(predicted.ravel()))\n",
    "score_dict['forest']['model'] = forest\n",
    "print(score_dict['forest']['score'])"
   ]
  },
  {
   "cell_type": "code",
   "execution_count": 252,
   "metadata": {},
   "outputs": [],
   "source": [
    "scores = {}\n",
    "scores[\"linear\"] = cross_val_score(reg, df[X], df.yes_rsvp_count, scoring=scorer, cv=5)\n",
    "scores[\"gbm\"] = cross_val_score(gbm, df[X], df.yes_rsvp_count, scoring=scorer, cv=5)\n",
    "scores[\"tree\"] = cross_val_score(treeReg, df[X], df.yes_rsvp_count, scoring=scorer, cv=5)\n",
    "scores[\"forest\"] = cross_val_score(forest, df[X], df.yes_rsvp_count, scoring=scorer, cv=5)"
   ]
  },
  {
   "cell_type": "code",
   "execution_count": 253,
   "metadata": {},
   "outputs": [],
   "source": [
    "scores = pd.DataFrame(scores)"
   ]
  },
  {
   "cell_type": "code",
   "execution_count": 254,
   "metadata": {},
   "outputs": [
    {
     "data": {
      "text/plain": [
       "<matplotlib.axes._subplots.AxesSubplot at 0x1f183f78048>"
      ]
     },
     "execution_count": 254,
     "metadata": {},
     "output_type": "execute_result"
    },
    {
     "data": {
      "image/png": "[encoded data removed]",
      "text/plain": [
       "<Figure size 432x288 with 1 Axes>"
      ]
     },
     "metadata": {
      "needs_background": "light"
     },
     "output_type": "display_data"
    }
   ],
   "source": [
    "scores.boxplot()"
   ]
  },
  {
   "cell_type": "code",
   "execution_count": 255,
   "metadata": {},
   "outputs": [],
   "source": [
    "res = pd.DataFrame({\"real\" : df.yes_rsvp_count, \"predicted\" : np.trunc(gbm.predict(df[X]).ravel())})"
   ]
  },
  {
   "cell_type": "code",
   "execution_count": 256,
   "metadata": {},
   "outputs": [],
   "source": [
    "res['losses'] = res.real - res.predicted\n",
    "res['losses'] = res['losses'].apply(compute_losses)"
   ]
  },
  {
   "cell_type": "code",
   "execution_count": 257,
   "metadata": {},
   "outputs": [
    {
     "data": {
      "text/html": [
       "<div>\n",
       "<style scoped>\n",
       "    .dataframe tbody tr th:only-of-type {\n",
       "        vertical-align: middle;\n",
       "    }\n",
       "\n",
       "    .dataframe tbody tr th {\n",
       "        vertical-align: top;\n",
       "    }\n",
       "\n",
       "    .dataframe thead th {\n",
       "        text-align: right;\n",
       "    }\n",
       "</style>\n",
       "<table border=\"1\" class=\"dataframe\">\n",
       "  <thead>\n",
       "    <tr style=\"text-align: right;\">\n",
       "      <th></th>\n",
       "      <th>real</th>\n",
       "      <th>predicted</th>\n",
       "      <th>losses</th>\n",
       "    </tr>\n",
       "  </thead>\n",
       "  <tbody>\n",
       "    <tr>\n",
       "      <th>0</th>\n",
       "      <td>72</td>\n",
       "      <td>164.0</td>\n",
       "      <td>460.0</td>\n",
       "    </tr>\n",
       "    <tr>\n",
       "      <th>1</th>\n",
       "      <td>26</td>\n",
       "      <td>29.0</td>\n",
       "      <td>15.0</td>\n",
       "    </tr>\n",
       "    <tr>\n",
       "      <th>2</th>\n",
       "      <td>198</td>\n",
       "      <td>192.0</td>\n",
       "      <td>18.0</td>\n",
       "    </tr>\n",
       "    <tr>\n",
       "      <th>3</th>\n",
       "      <td>22</td>\n",
       "      <td>23.0</td>\n",
       "      <td>5.0</td>\n",
       "    </tr>\n",
       "    <tr>\n",
       "      <th>4</th>\n",
       "      <td>96</td>\n",
       "      <td>99.0</td>\n",
       "      <td>15.0</td>\n",
       "    </tr>\n",
       "    <tr>\n",
       "      <th>...</th>\n",
       "      <td>...</td>\n",
       "      <td>...</td>\n",
       "      <td>...</td>\n",
       "    </tr>\n",
       "    <tr>\n",
       "      <th>5512</th>\n",
       "      <td>7</td>\n",
       "      <td>9.0</td>\n",
       "      <td>10.0</td>\n",
       "    </tr>\n",
       "    <tr>\n",
       "      <th>5513</th>\n",
       "      <td>10</td>\n",
       "      <td>22.0</td>\n",
       "      <td>60.0</td>\n",
       "    </tr>\n",
       "    <tr>\n",
       "      <th>5514</th>\n",
       "      <td>6</td>\n",
       "      <td>25.0</td>\n",
       "      <td>95.0</td>\n",
       "    </tr>\n",
       "    <tr>\n",
       "      <th>5519</th>\n",
       "      <td>16</td>\n",
       "      <td>21.0</td>\n",
       "      <td>25.0</td>\n",
       "    </tr>\n",
       "    <tr>\n",
       "      <th>5520</th>\n",
       "      <td>6</td>\n",
       "      <td>12.0</td>\n",
       "      <td>30.0</td>\n",
       "    </tr>\n",
       "  </tbody>\n",
       "</table>\n",
       "<p>480 rows × 3 columns</p>\n",
       "</div>"
      ],
      "text/plain": [
       "      real  predicted  losses\n",
       "0       72      164.0   460.0\n",
       "1       26       29.0    15.0\n",
       "2      198      192.0    18.0\n",
       "3       22       23.0     5.0\n",
       "4       96       99.0    15.0\n",
       "...    ...        ...     ...\n",
       "5512     7        9.0    10.0\n",
       "5513    10       22.0    60.0\n",
       "5514     6       25.0    95.0\n",
       "5519    16       21.0    25.0\n",
       "5520     6       12.0    30.0\n",
       "\n",
       "[480 rows x 3 columns]"
      ]
     },
     "execution_count": 257,
     "metadata": {},
     "output_type": "execute_result"
    }
   ],
   "source": [
    "res"
   ]
  },
  {
   "cell_type": "code",
   "execution_count": 258,
   "metadata": {},
   "outputs": [
    {
     "data": {
      "text/html": [
       "<div>\n",
       "<style scoped>\n",
       "    .dataframe tbody tr th:only-of-type {\n",
       "        vertical-align: middle;\n",
       "    }\n",
       "\n",
       "    .dataframe tbody tr th {\n",
       "        vertical-align: top;\n",
       "    }\n",
       "\n",
       "    .dataframe thead th {\n",
       "        text-align: right;\n",
       "    }\n",
       "</style>\n",
       "<table border=\"1\" class=\"dataframe\">\n",
       "  <thead>\n",
       "    <tr style=\"text-align: right;\">\n",
       "      <th></th>\n",
       "      <th>real</th>\n",
       "      <th>predicted</th>\n",
       "      <th>losses</th>\n",
       "    </tr>\n",
       "  </thead>\n",
       "  <tbody>\n",
       "    <tr>\n",
       "      <th>count</th>\n",
       "      <td>480.000000</td>\n",
       "      <td>480.000000</td>\n",
       "      <td>480.000000</td>\n",
       "    </tr>\n",
       "    <tr>\n",
       "      <th>mean</th>\n",
       "      <td>24.010417</td>\n",
       "      <td>24.047917</td>\n",
       "      <td>20.804167</td>\n",
       "    </tr>\n",
       "    <tr>\n",
       "      <th>std</th>\n",
       "      <td>28.427285</td>\n",
       "      <td>26.365343</td>\n",
       "      <td>36.997478</td>\n",
       "    </tr>\n",
       "    <tr>\n",
       "      <th>min</th>\n",
       "      <td>5.000000</td>\n",
       "      <td>4.000000</td>\n",
       "      <td>0.000000</td>\n",
       "    </tr>\n",
       "    <tr>\n",
       "      <th>25%</th>\n",
       "      <td>9.000000</td>\n",
       "      <td>12.000000</td>\n",
       "      <td>3.000000</td>\n",
       "    </tr>\n",
       "    <tr>\n",
       "      <th>50%</th>\n",
       "      <td>16.000000</td>\n",
       "      <td>17.000000</td>\n",
       "      <td>10.000000</td>\n",
       "    </tr>\n",
       "    <tr>\n",
       "      <th>75%</th>\n",
       "      <td>21.000000</td>\n",
       "      <td>20.000000</td>\n",
       "      <td>25.000000</td>\n",
       "    </tr>\n",
       "    <tr>\n",
       "      <th>max</th>\n",
       "      <td>198.000000</td>\n",
       "      <td>192.000000</td>\n",
       "      <td>460.000000</td>\n",
       "    </tr>\n",
       "  </tbody>\n",
       "</table>\n",
       "</div>"
      ],
      "text/plain": [
       "             real   predicted      losses\n",
       "count  480.000000  480.000000  480.000000\n",
       "mean    24.010417   24.047917   20.804167\n",
       "std     28.427285   26.365343   36.997478\n",
       "min      5.000000    4.000000    0.000000\n",
       "25%      9.000000   12.000000    3.000000\n",
       "50%     16.000000   17.000000   10.000000\n",
       "75%     21.000000   20.000000   25.000000\n",
       "max    198.000000  192.000000  460.000000"
      ]
     },
     "execution_count": 258,
     "metadata": {},
     "output_type": "execute_result"
    }
   ],
   "source": [
    "res.describe()"
   ]
  },
  {
   "cell_type": "code",
   "execution_count": 259,
   "metadata": {},
   "outputs": [
    {
     "data": {
      "text/plain": [
       "20.804166666666667"
      ]
     },
     "execution_count": 259,
     "metadata": {},
     "output_type": "execute_result"
    }
   ],
   "source": [
    "compute_score(res)"
   ]
  }
 ],
 "metadata": {
  "kernelspec": {
   "display_name": "Python 3",
   "language": "python",
   "name": "python3"
  },
  "language_info": {
   "codemirror_mode": {
    "name": "ipython",
    "version": 3
   },
   "file_extension": ".py",
   "mimetype": "text/x-python",
   "name": "python",
   "nbconvert_exporter": "python",
   "pygments_lexer": "ipython3",
   "version": "3.7.4"
  }
 },
 "nbformat": 4,
 "nbformat_minor": 4
}
